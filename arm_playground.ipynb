{
 "cells": [
  {
   "cell_type": "code",
   "execution_count": 1,
   "metadata": {},
   "outputs": [],
   "source": [
    "from arm import *"
   ]
  },
  {
   "cell_type": "code",
   "execution_count": 2,
   "metadata": {},
   "outputs": [],
   "source": [
    "range_limiter = do.Range_Limiter_Scalar(0, np.pi)"
   ]
  },
  {
   "cell_type": "code",
   "execution_count": 3,
   "metadata": {},
   "outputs": [
    {
     "data": {
      "text/plain": [
       "1.1686963357062937e-43"
      ]
     },
     "execution_count": 3,
     "metadata": {},
     "output_type": "execute_result"
    }
   ],
   "source": [
    "range_limiter.map_scalar_to_target_interval(-100)"
   ]
  },
  {
   "cell_type": "code",
   "execution_count": 4,
   "metadata": {},
   "outputs": [
    {
     "data": {
      "text/plain": [
       "3.141592653589793"
      ]
     },
     "execution_count": 4,
     "metadata": {},
     "output_type": "execute_result"
    }
   ],
   "source": [
    "range_limiter.map_scalar_to_target_interval(100)"
   ]
  },
  {
   "cell_type": "code",
   "execution_count": 5,
   "metadata": {},
   "outputs": [
    {
     "data": {
      "text/plain": [
       "0.00014260866166367913"
      ]
     },
     "execution_count": 5,
     "metadata": {},
     "output_type": "execute_result"
    }
   ],
   "source": [
    "range_limiter.derivative_of_mapping(10)"
   ]
  },
  {
   "cell_type": "code",
   "execution_count": 6,
   "metadata": {},
   "outputs": [
    {
     "data": {
      "text/plain": [
       "0.39269908169872414"
      ]
     },
     "execution_count": 6,
     "metadata": {},
     "output_type": "execute_result"
    }
   ],
   "source": [
    "range_limiter.derivative_of_mapping(0)"
   ]
  },
  {
   "cell_type": "code",
   "execution_count": 7,
   "metadata": {},
   "outputs": [
    {
     "data": {
      "text/plain": [
       "0.00013978344426319542"
      ]
     },
     "execution_count": 7,
     "metadata": {},
     "output_type": "execute_result"
    }
   ],
   "source": [
    "range_limiter.derivative_of_mapping(-5)"
   ]
  },
  {
   "cell_type": "code",
   "execution_count": 8,
   "metadata": {},
   "outputs": [],
   "source": [
    "range_limiter_vector = do.Range_Limit_Vector((\n",
    "    (0, 2*np.pi),\n",
    "    (0, np.pi),\n",
    "    (0, np.pi),\n",
    "    (0, np.pi),\n",
    "))"
   ]
  },
  {
   "cell_type": "code",
   "execution_count": 9,
   "metadata": {},
   "outputs": [
    {
     "data": {
      "text/plain": [
       "array([3.14159265, 1.57079633, 1.57079633, 1.57079633])"
      ]
     },
     "execution_count": 9,
     "metadata": {},
     "output_type": "execute_result"
    }
   ],
   "source": [
    "range_limiter_vector.function(\n",
    "    np.array([0,0,0,0])\n",
    ")"
   ]
  },
  {
   "cell_type": "code",
   "execution_count": 10,
   "metadata": {},
   "outputs": [
    {
     "data": {
      "text/plain": [
       "array([[0.78539816, 0.        , 0.        , 0.        ],\n",
       "       [0.        , 0.39269908, 0.        , 0.        ],\n",
       "       [0.        , 0.        , 0.39269908, 0.        ],\n",
       "       [0.        , 0.        , 0.        , 0.39269908]])"
      ]
     },
     "execution_count": 10,
     "metadata": {},
     "output_type": "execute_result"
    }
   ],
   "source": [
    "range_limiter_vector.derivative_WR_vector(\n",
    "    np.array([0,0,0,0])\n",
    ")"
   ]
  },
  {
   "cell_type": "code",
   "execution_count": 11,
   "metadata": {},
   "outputs": [],
   "source": [
    "arm = Leipzig_Robot_Arm()"
   ]
  },
  {
   "cell_type": "code",
   "execution_count": 12,
   "metadata": {},
   "outputs": [
    {
     "data": {
      "text/plain": [
       "array([0., 0., 7.])"
      ]
     },
     "execution_count": 12,
     "metadata": {},
     "output_type": "execute_result"
    }
   ],
   "source": [
    "arm.get_GP_position_at_angles(\n",
    "    np.array([0, np.pi/2, np.pi/2, np.pi/2])\n",
    ")"
   ]
  },
  {
   "cell_type": "code",
   "execution_count": 13,
   "metadata": {},
   "outputs": [
    {
     "data": {
      "text/plain": [
       "array([0., 0., 7.])"
      ]
     },
     "execution_count": 13,
     "metadata": {},
     "output_type": "execute_result"
    }
   ],
   "source": [
    "arm.get_GP_position_at_angles(\n",
    "    np.array([np.pi, np.pi/2, np.pi/2, np.pi/2])\n",
    ")"
   ]
  },
  {
   "cell_type": "code",
   "execution_count": 14,
   "metadata": {},
   "outputs": [
    {
     "data": {
      "text/plain": [
       "array([-1.8369702e-16, -1.0000000e+00,  6.0000000e+00])"
      ]
     },
     "execution_count": 14,
     "metadata": {},
     "output_type": "execute_result"
    }
   ],
   "source": [
    "arm.get_GP_position_at_angles(\n",
    "    np.array([0, np.pi/2, np.pi/2, np.pi])\n",
    ")"
   ]
  },
  {
   "cell_type": "code",
   "execution_count": 15,
   "metadata": {},
   "outputs": [
    {
     "data": {
      "text/plain": [
       "array([3.14159265, 1.57079633, 1.57079633, 1.57079633])"
      ]
     },
     "execution_count": 15,
     "metadata": {},
     "output_type": "execute_result"
    }
   ],
   "source": [
    "angles = range_limiter_vector.function([0,0,0,0])\n",
    "angles"
   ]
  },
  {
   "cell_type": "code",
   "execution_count": 16,
   "metadata": {},
   "outputs": [
    {
     "data": {
      "text/plain": [
       "array([0.        , 1.57079633, 1.57079633, 1.57079633])"
      ]
     },
     "execution_count": 16,
     "metadata": {},
     "output_type": "execute_result"
    }
   ],
   "source": [
    "np.array([0, np.pi/2, np.pi/2, np.pi/2])"
   ]
  },
  {
   "cell_type": "code",
   "execution_count": 17,
   "metadata": {},
   "outputs": [
    {
     "data": {
      "text/plain": [
       "array([0., 0., 7.])"
      ]
     },
     "execution_count": 17,
     "metadata": {},
     "output_type": "execute_result"
    }
   ],
   "source": [
    "arm.get_GP_position_at_angles(angles)"
   ]
  },
  {
   "cell_type": "code",
   "execution_count": 18,
   "metadata": {},
   "outputs": [
    {
     "data": {
      "text/plain": [
       "array([0., 0., 7.])"
      ]
     },
     "execution_count": 18,
     "metadata": {},
     "output_type": "execute_result"
    }
   ],
   "source": [
    "desired_position = np.array([0., 0., 7.])\n",
    "angles_estimate = arm.get_angles_for_GP_position(desired_position)\n",
    "achieved_position = arm.get_GP_position_at_angles(angles_estimate)\n",
    "achieved_position"
   ]
  },
  {
   "cell_type": "code",
   "execution_count": 19,
   "metadata": {},
   "outputs": [
    {
     "data": {
      "text/plain": [
       "array([-0.70707143,  0.70707143,  6.00999983])"
      ]
     },
     "execution_count": 19,
     "metadata": {},
     "output_type": "execute_result"
    }
   ],
   "source": [
    "some_angles = np.array([np.pi/4, np.pi/2, np.pi/2, 0.01])\n",
    "desired_position = arm.get_GP_position_at_angles(some_angles)\n",
    "desired_position"
   ]
  },
  {
   "cell_type": "code",
   "execution_count": 20,
   "metadata": {},
   "outputs": [
    {
     "name": "stdout",
     "output_type": "stream",
     "text": [
      "Starting Angles: [0.84490439 0.84490439 0.84490439 0.84490439]:\n",
      "Current Angles are:  [2.3556, 1.0371, 1.923, 2.843]\n",
      "Desired position is:  [-0.7071, 0.7071, 6.01]\n",
      "Current position is:  [-0.7078, -0.7069, 6.0119]\n",
      "Current loss is:  1.999182920672167\n",
      "Starting Angles: [1.57079633 1.57079633 1.57079633 1.57079633]:\n",
      "Current Angles are:  [2.3568, 1.7975, 0.9877, 0.5754]\n",
      "Desired position is:  [-0.7071, 0.7071, 6.01]\n",
      "Current position is:  [-0.7064, -0.7073, 6.0149]\n",
      "Current loss is:  2.0004387991347437\n",
      "Starting Angles: [2.29668826 2.29668826 2.29668826 2.29668826]:\n",
      "Current Angles are:  [2.3559, 1.6123, 0.6129, 2.968]\n",
      "Desired position is:  [-0.7071, 0.7071, 6.01]\n",
      "Current position is:  [-0.7072, -0.7067, 6.1022]\n",
      "Current loss is:  2.0072681895118736\n"
     ]
    },
    {
     "data": {
      "text/plain": [
       "array([-0.70774498, -0.70685877,  6.01186072])"
      ]
     },
     "execution_count": 20,
     "metadata": {},
     "output_type": "execute_result"
    }
   ],
   "source": [
    "angles_estimate = arm.get_angles_for_GP_position(desired_position, echo=True)\n",
    "achieved_position = arm.get_GP_position_at_angles(angles_estimate)\n",
    "achieved_position"
   ]
  },
  {
   "cell_type": "markdown",
   "metadata": {},
   "source": [
    "# I think the above is a great example of a local minima. I think it is locally if change the j component without increasing loss.\n",
    "# I will try adding in the tries mechanism to fix this"
   ]
  },
  {
   "cell_type": "code",
   "execution_count": 21,
   "metadata": {},
   "outputs": [
    {
     "data": {
      "text/plain": [
       "array([1.04719755, 2.51327412, 0.44879895, 2.35619449])"
      ]
     },
     "execution_count": 21,
     "metadata": {},
     "output_type": "execute_result"
    }
   ],
   "source": [
    "some_angles = np.array([np.pi/3, 4*np.pi/5, np.pi/7, 3*np.pi/4])\n",
    "some_angles"
   ]
  },
  {
   "cell_type": "code",
   "execution_count": 22,
   "metadata": {},
   "outputs": [
    {
     "data": {
      "text/plain": [
       "array([ 2.28580623, -1.31971084,  5.55321701])"
      ]
     },
     "execution_count": 22,
     "metadata": {},
     "output_type": "execute_result"
    }
   ],
   "source": [
    "desired_position = arm.get_GP_position_at_angles(some_angles)\n",
    "desired_position"
   ]
  },
  {
   "cell_type": "code",
   "execution_count": 23,
   "metadata": {},
   "outputs": [
    {
     "data": {
      "text/plain": [
       "array([1.04719755, 1.66377441, 2.23002439, 2.28337961])"
      ]
     },
     "execution_count": 23,
     "metadata": {},
     "output_type": "execute_result"
    }
   ],
   "source": [
    "angles_estimated_from_position = arm.get_angles_for_GP_position(desired_position)\n",
    "angles_estimated_from_position"
   ]
  },
  {
   "cell_type": "code",
   "execution_count": 24,
   "metadata": {},
   "outputs": [
    {
     "data": {
      "text/plain": [
       "array([ 2.28580623, -1.31971084,  5.55321701])"
      ]
     },
     "execution_count": 24,
     "metadata": {},
     "output_type": "execute_result"
    }
   ],
   "source": [
    "resulting_position = arm.get_GP_position_at_angles(angles_estimated_from_position)\n",
    "resulting_position"
   ]
  }
 ],
 "metadata": {
  "kernelspec": {
   "display_name": "Python 3",
   "language": "python",
   "name": "python3"
  },
  "language_info": {
   "codemirror_mode": {
    "name": "ipython",
    "version": 3
   },
   "file_extension": ".py",
   "mimetype": "text/x-python",
   "name": "python",
   "nbconvert_exporter": "python",
   "pygments_lexer": "ipython3",
   "version": "3.11.7"
  }
 },
 "nbformat": 4,
 "nbformat_minor": 2
}
