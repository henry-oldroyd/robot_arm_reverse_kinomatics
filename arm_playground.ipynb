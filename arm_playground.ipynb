{
 "cells": [
  {
   "cell_type": "code",
   "execution_count": 1,
   "metadata": {},
   "outputs": [],
   "source": [
    "from arm import *"
   ]
  },
  {
   "cell_type": "code",
   "execution_count": 2,
   "metadata": {},
   "outputs": [],
   "source": [
    "range_limiter = do.Range_Limiter_Scalar(0, np.pi)"
   ]
  },
  {
   "cell_type": "code",
   "execution_count": 3,
   "metadata": {},
   "outputs": [
    {
     "data": {
      "text/plain": [
       "1.1686963357062937e-43"
      ]
     },
     "execution_count": 3,
     "metadata": {},
     "output_type": "execute_result"
    }
   ],
   "source": [
    "range_limiter.map_scalar_to_target_interval(-100)"
   ]
  },
  {
   "cell_type": "code",
   "execution_count": 4,
   "metadata": {},
   "outputs": [
    {
     "data": {
      "text/plain": [
       "3.141592653589793"
      ]
     },
     "execution_count": 4,
     "metadata": {},
     "output_type": "execute_result"
    }
   ],
   "source": [
    "range_limiter.map_scalar_to_target_interval(100)"
   ]
  },
  {
   "cell_type": "code",
   "execution_count": 5,
   "metadata": {},
   "outputs": [
    {
     "data": {
      "text/plain": [
       "0.00014260866166367913"
      ]
     },
     "execution_count": 5,
     "metadata": {},
     "output_type": "execute_result"
    }
   ],
   "source": [
    "range_limiter.derivative_of_mapping(10)"
   ]
  },
  {
   "cell_type": "code",
   "execution_count": 6,
   "metadata": {},
   "outputs": [
    {
     "data": {
      "text/plain": [
       "0.39269908169872414"
      ]
     },
     "execution_count": 6,
     "metadata": {},
     "output_type": "execute_result"
    }
   ],
   "source": [
    "range_limiter.derivative_of_mapping(0)"
   ]
  },
  {
   "cell_type": "code",
   "execution_count": 7,
   "metadata": {},
   "outputs": [
    {
     "data": {
      "text/plain": [
       "0.00013978344426319542"
      ]
     },
     "execution_count": 7,
     "metadata": {},
     "output_type": "execute_result"
    }
   ],
   "source": [
    "range_limiter.derivative_of_mapping(-5)"
   ]
  },
  {
   "cell_type": "code",
   "execution_count": 8,
   "metadata": {},
   "outputs": [],
   "source": [
    "range_limiter_vector = do.Range_Limit_Vector((\n",
    "    (0, 2*np.pi),\n",
    "    (0, np.pi),\n",
    "    (0, np.pi),\n",
    "    (0, np.pi),\n",
    "))"
   ]
  },
  {
   "cell_type": "code",
   "execution_count": 9,
   "metadata": {},
   "outputs": [
    {
     "data": {
      "text/plain": [
       "array([3.14159265, 1.57079633, 1.57079633, 1.57079633])"
      ]
     },
     "execution_count": 9,
     "metadata": {},
     "output_type": "execute_result"
    }
   ],
   "source": [
    "range_limiter_vector.function(\n",
    "    np.array([0,0,0,0])\n",
    ")"
   ]
  },
  {
   "cell_type": "code",
   "execution_count": 10,
   "metadata": {},
   "outputs": [
    {
     "data": {
      "text/plain": [
       "array([[0.78539816, 0.        , 0.        , 0.        ],\n",
       "       [0.        , 0.39269908, 0.        , 0.        ],\n",
       "       [0.        , 0.        , 0.39269908, 0.        ],\n",
       "       [0.        , 0.        , 0.        , 0.39269908]])"
      ]
     },
     "execution_count": 10,
     "metadata": {},
     "output_type": "execute_result"
    }
   ],
   "source": [
    "range_limiter_vector.derivative_WR_vector(\n",
    "    np.array([0,0,0,0])\n",
    ")"
   ]
  },
  {
   "cell_type": "code",
   "execution_count": 11,
   "metadata": {},
   "outputs": [],
   "source": [
    "arm = Leipzig_Robot_Arm()"
   ]
  },
  {
   "cell_type": "code",
   "execution_count": 12,
   "metadata": {},
   "outputs": [
    {
     "data": {
      "text/plain": [
       "array([0., 0., 7.])"
      ]
     },
     "execution_count": 12,
     "metadata": {},
     "output_type": "execute_result"
    }
   ],
   "source": [
    "arm.get_GP_position_at_angles(\n",
    "    np.array([0, np.pi/2, np.pi/2, np.pi/2])\n",
    ")"
   ]
  },
  {
   "cell_type": "code",
   "execution_count": 13,
   "metadata": {},
   "outputs": [
    {
     "data": {
      "text/plain": [
       "array([0., 0., 7.])"
      ]
     },
     "execution_count": 13,
     "metadata": {},
     "output_type": "execute_result"
    }
   ],
   "source": [
    "arm.get_GP_position_at_angles(\n",
    "    np.array([np.pi, np.pi/2, np.pi/2, np.pi/2])\n",
    ")"
   ]
  },
  {
   "cell_type": "code",
   "execution_count": 14,
   "metadata": {},
   "outputs": [
    {
     "data": {
      "text/plain": [
       "array([-1.0000000e+00,  1.2246468e-16,  6.0000000e+00])"
      ]
     },
     "execution_count": 14,
     "metadata": {},
     "output_type": "execute_result"
    }
   ],
   "source": [
    "arm.get_GP_position_at_angles(\n",
    "    np.array([0, np.pi/2, np.pi/2, np.pi])\n",
    ")"
   ]
  },
  {
   "cell_type": "code",
   "execution_count": 15,
   "metadata": {},
   "outputs": [
    {
     "data": {
      "text/plain": [
       "array([3.14159265, 1.57079633, 1.57079633, 1.57079633])"
      ]
     },
     "execution_count": 15,
     "metadata": {},
     "output_type": "execute_result"
    }
   ],
   "source": [
    "angles = range_limiter_vector.function([0,0,0,0])\n",
    "angles"
   ]
  },
  {
   "cell_type": "code",
   "execution_count": 16,
   "metadata": {},
   "outputs": [
    {
     "data": {
      "text/plain": [
       "array([0.        , 1.57079633, 1.57079633, 1.57079633])"
      ]
     },
     "execution_count": 16,
     "metadata": {},
     "output_type": "execute_result"
    }
   ],
   "source": [
    "np.array([0, np.pi/2, np.pi/2, np.pi/2])"
   ]
  },
  {
   "cell_type": "code",
   "execution_count": 17,
   "metadata": {},
   "outputs": [
    {
     "data": {
      "text/plain": [
       "array([0., 0., 7.])"
      ]
     },
     "execution_count": 17,
     "metadata": {},
     "output_type": "execute_result"
    }
   ],
   "source": [
    "arm.get_GP_position_at_angles(angles)"
   ]
  },
  {
   "cell_type": "code",
   "execution_count": 18,
   "metadata": {},
   "outputs": [
    {
     "data": {
      "text/plain": [
       "array([0., 0., 7.])"
      ]
     },
     "execution_count": 18,
     "metadata": {},
     "output_type": "execute_result"
    }
   ],
   "source": [
    "desired_position = np.array([0., 0., 7.])\n",
    "angles_estimate = arm.get_angles_for_GP_position(desired_position)\n",
    "achieved_position = arm.get_GP_position_at_angles(angles_estimate)\n",
    "achieved_position"
   ]
  },
  {
   "cell_type": "code",
   "execution_count": 19,
   "metadata": {},
   "outputs": [
    {
     "data": {
      "text/plain": [
       "array([0.70707143, 0.70707143, 6.00999983])"
      ]
     },
     "execution_count": 19,
     "metadata": {},
     "output_type": "execute_result"
    }
   ],
   "source": [
    "some_angles = np.array([np.pi/4, np.pi/2, np.pi/2, 0.01])\n",
    "desired_position = arm.get_GP_position_at_angles(some_angles)\n",
    "desired_position"
   ]
  },
  {
   "cell_type": "code",
   "execution_count": 20,
   "metadata": {},
   "outputs": [
    {
     "name": "stdout",
     "output_type": "stream",
     "text": [
      "Iteration 0:\n",
      "Current angles are:   [3.1416, 1.7013, 1.7013, 1.7013]\n",
      "Current position is:  [0.0, 0.0, 7.0]\n",
      "Current loss is:  1.9800003333316667\n",
      "Iteration 1:\n",
      "Current angles are:   [3.5369, 1.7359, 1.7501, 1.7634]\n",
      "Current position is:  [1.2886, 0.0, 6.831]\n",
      "Current loss is:  1.5120598037748063\n",
      "Iteration 2:\n",
      "Current angles are:   [3.911, 1.7128, 1.7453, 1.7786]\n",
      "Current position is:  [1.5502, 0.6469, 6.701]\n",
      "Current loss is:  1.1920071813774158\n",
      "Iteration 3:\n",
      "Current angles are:   [4.0989, 1.6896, 1.7336, 1.7813]\n",
      "Current position is:  [1.1115, 1.0765, 6.7363]\n",
      "Current loss is:  0.8274483448272417\n",
      "Iteration 4:\n",
      "Current angles are:   [4.1736, 1.6744, 1.7288, 1.7906]\n",
      "Current position is:  [0.7965, 1.1313, 6.7815]\n",
      "Current loss is:  0.7831608672651208\n",
      "Iteration 5:\n",
      "Current angles are:   [4.1985, 1.6626, 1.7278, 1.8051]\n",
      "Current position is:  [0.6621, 1.1076, 6.8022]\n",
      "Current loss is:  0.7900414164790087\n",
      "Iteration 6:\n",
      "Current angles are:   [4.1988, 1.6525, 1.7287, 1.8229]\n",
      "Current position is:  [0.6058, 1.0732, 6.8113]\n",
      "Current loss is:  0.7863070908969333\n",
      "Iteration 7:\n",
      "Current angles are:   [4.1858, 1.6433, 1.7307, 1.8432]\n",
      "Current position is:  [0.5856, 1.038, 6.8143]\n",
      "Current loss is:  0.7712515602763973\n",
      "Iteration 8:\n",
      "Current angles are:   [4.166, 1.6348, 1.7333, 1.8656]\n",
      "Current position is:  [0.5838, 1.0043, 6.8136]\n",
      "Current loss is:  0.7493433907648115\n",
      "Iteration 9:\n",
      "Current angles are:   [4.1434, 1.6269, 1.7366, 1.8898]\n",
      "Current position is:  [0.592, 0.9734, 6.8099]\n",
      "Current loss is:  0.7239905519037474\n",
      "Iteration 10:\n",
      "Current angles are:   [4.1211, 1.6195, 1.7404, 1.9157]\n",
      "Current position is:  [0.6054, 0.9466, 6.8034]\n",
      "Current loss is:  0.697219739737224\n",
      "Iteration 11:\n",
      "Current angles are:   [4.1011, 1.6126, 1.7446, 1.9432]\n",
      "Current position is:  [0.6207, 0.9244, 6.7944]\n",
      "Current loss is:  0.6700490342525532\n",
      "Iteration 12:\n",
      "Current angles are:   [4.0844, 1.6058, 1.7491, 1.9719]\n",
      "Current position is:  [0.6358, 0.9072, 6.7831]\n",
      "Current loss is:  0.6428815224882876\n",
      "Iteration 13:\n",
      "Current angles are:   [4.0714, 1.5993, 1.7538, 2.0018]\n",
      "Current position is:  [0.6493, 0.8943, 6.7699]\n",
      "Current loss is:  0.6157958018287027\n",
      "Iteration 14:\n",
      "Current angles are:   [4.0617, 1.5927, 1.7584, 2.0325]\n",
      "Current position is:  [0.6603, 0.885, 6.7549]\n",
      "Current loss is:  0.5887221019379775\n",
      "Iteration 15:\n",
      "Current angles are:   [4.0546, 1.5862, 1.7631, 2.0639]\n",
      "Current position is:  [0.6687, 0.8783, 6.7385]\n",
      "Current loss is:  0.5615410627090661\n",
      "Iteration 16:\n",
      "Current angles are:   [4.0493, 1.5796, 1.7676, 2.0958]\n",
      "Current position is:  [0.6745, 0.873, 6.721]\n",
      "Current loss is:  0.5341442091921571\n",
      "Iteration 17:\n",
      "Current angles are:   [4.0452, 1.573, 1.7721, 2.1278]\n",
      "Current position is:  [0.6784, 0.8686, 6.7025]\n",
      "Current loss is:  0.5064744996448617\n",
      "Iteration 18:\n",
      "Current angles are:   [4.0417, 1.5665, 1.7766, 2.1598]\n",
      "Current position is:  [0.6809, 0.8644, 6.6831]\n",
      "Current loss is:  0.47854987608295246\n",
      "Iteration 19:\n",
      "Current angles are:   [4.0384, 1.5601, 1.7809, 2.1916]\n",
      "Current position is:  [0.6825, 0.8602, 6.663]\n",
      "Current loss is:  0.45046916288174166\n",
      "Iteration 20:\n",
      "Current angles are:   [4.0352, 1.5537, 1.7853, 2.223]\n",
      "Current position is:  [0.6835, 0.8558, 6.6422]\n",
      "Current loss is:  0.42240214153820543\n",
      "Iteration 21:\n",
      "Current angles are:   [4.0318, 1.5475, 1.7896, 2.2537]\n",
      "Current position is:  [0.6843, 0.8511, 6.621]\n",
      "Current loss is:  0.394568654660972\n",
      "Iteration 22:\n",
      "Current angles are:   [4.0283, 1.5415, 1.794, 2.2835]\n",
      "Current position is:  [0.685, 0.8461, 6.5994]\n",
      "Current loss is:  0.36721286349016036\n",
      "Iteration 23:\n",
      "Current angles are:   [4.0247, 1.5358, 1.7983, 2.3124]\n",
      "Current position is:  [0.6857, 0.841, 6.5776]\n",
      "Current loss is:  0.34057816468677105\n",
      "Iteration 24:\n",
      "Current angles are:   [4.0209, 1.5302, 1.8026, 2.3401]\n",
      "Current position is:  [0.6865, 0.8357, 6.5558]\n",
      "Current loss is:  0.31488655522490544\n",
      "Iteration 25:\n",
      "Current angles are:   [4.0171, 1.5249, 1.807, 2.3666]\n",
      "Current position is:  [0.6873, 0.8303, 6.5342]\n",
      "Current loss is:  0.29032429146933114\n",
      "Iteration 26:\n",
      "Current angles are:   [4.0132, 1.5198, 1.8113, 2.3917]\n",
      "Current position is:  [0.6882, 0.8248, 6.5128]\n",
      "Current loss is:  0.26703407795530126\n",
      "Iteration 27:\n",
      "Current angles are:   [4.0093, 1.5149, 1.8156, 2.4155]\n",
      "Current position is:  [0.6891, 0.8194, 6.4918]\n",
      "Current loss is:  0.2451129551049896\n",
      "Iteration 28:\n",
      "Current angles are:   [4.0054, 1.5103, 1.82, 2.438]\n",
      "Current position is:  [0.6901, 0.8141, 6.4714]\n",
      "Current loss is:  0.22461451941829483\n",
      "Iteration 29:\n",
      "Current angles are:   [4.0016, 1.5059, 1.8243, 2.4592]\n",
      "Current position is:  [0.6911, 0.8089, 6.4515]\n",
      "Current loss is:  0.20555398647365022\n",
      "Iteration 30:\n",
      "Current angles are:   [3.9979, 1.5017, 1.8286, 2.479]\n",
      "Current position is:  [0.692, 0.8038, 6.4323]\n",
      "Current loss is:  0.18791475172458744\n",
      "Iteration 31:\n",
      "Current angles are:   [3.9943, 1.4977, 1.8328, 2.4976]\n",
      "Current position is:  [0.693, 0.7989, 6.4138]\n",
      "Current loss is:  0.17165538596428964\n",
      "Iteration 32:\n",
      "Current angles are:   [3.9908, 1.4939, 1.837, 2.515]\n",
      "Current position is:  [0.6939, 0.7942, 6.3959]\n",
      "Current loss is:  0.15671632234368177\n",
      "Iteration 33:\n",
      "Current angles are:   [3.9875, 1.4903, 1.8412, 2.5313]\n",
      "Current position is:  [0.6948, 0.7897, 6.3788]\n",
      "Current loss is:  0.14302578622461484\n",
      "Iteration 34:\n",
      "Current angles are:   [3.9843, 1.4869, 1.8453, 2.5465]\n",
      "Current position is:  [0.6956, 0.7854, 6.3625]\n",
      "Current loss is:  0.13050475545566087\n",
      "Iteration 35:\n",
      "Current angles are:   [3.9813, 1.4836, 1.8494, 2.5607]\n",
      "Current position is:  [0.6964, 0.7813, 6.3468]\n",
      "Current loss is:  0.11907090768233082\n",
      "Iteration 36:\n",
      "Current angles are:   [3.9784, 1.4805, 1.8533, 2.5739]\n",
      "Current position is:  [0.6972, 0.7774, 6.3319]\n",
      "Current loss is:  0.10864161837499478\n",
      "Iteration 37:\n",
      "Current angles are:   [3.9757, 1.4775, 1.8573, 2.5863]\n",
      "Current position is:  [0.6979, 0.7737, 6.3176]\n",
      "Current loss is:  0.09913613073497958\n",
      "Iteration 38:\n",
      "Current angles are:   [3.9731, 1.4747, 1.8611, 2.5979]\n",
      "Current position is:  [0.6986, 0.7702, 6.304]\n",
      "Current loss is:  0.09047704060428452\n",
      "Iteration 39:\n",
      "Current angles are:   [3.9707, 1.472, 1.8648, 2.6087]\n",
      "Current position is:  [0.6992, 0.7669, 6.291]\n",
      "Current loss is:  0.08259123866841156\n",
      "Iteration 40:\n",
      "Current angles are:   [3.9684, 1.4695, 1.8685, 2.6188]\n",
      "Current position is:  [0.6998, 0.7638, 6.2786]\n",
      "Current loss is:  0.07541043859645866\n",
      "Iteration 41:\n",
      "Current angles are:   [3.9662, 1.467, 1.8721, 2.6283]\n",
      "Current position is:  [0.7003, 0.7608, 6.2668]\n",
      "Current loss is:  0.06887140036715286\n",
      "Iteration 42:\n",
      "Current angles are:   [3.9642, 1.4647, 1.8756, 2.6372]\n",
      "Current position is:  [0.7008, 0.758, 6.2555]\n",
      "Current loss is:  0.06291593739609244\n",
      "Iteration 43:\n",
      "Current angles are:   [3.9622, 1.4625, 1.879, 2.6455]\n",
      "Current position is:  [0.7012, 0.7554, 6.2448]\n",
      "Current loss is:  0.05749077677782807\n",
      "Iteration 44:\n",
      "Current angles are:   [3.9604, 1.4603, 1.8823, 2.6532]\n",
      "Current position is:  [0.7016, 0.7529, 6.2345]\n",
      "Current loss is:  0.05254732521470438\n",
      "Iteration 45:\n",
      "Current angles are:   [3.9587, 1.4583, 1.8856, 2.6606]\n",
      "Current position is:  [0.702, 0.7506, 6.2248]\n",
      "Current loss is:  0.04804137940536552\n",
      "Iteration 46:\n",
      "Current angles are:   [3.9571, 1.4563, 1.8887, 2.6674]\n",
      "Current position is:  [0.7024, 0.7484, 6.2154]\n",
      "Current loss is:  0.04393280871217163\n",
      "Iteration 47:\n",
      "Current angles are:   [3.9555, 1.4545, 1.8918, 2.6739]\n",
      "Current position is:  [0.7027, 0.7463, 6.2065]\n",
      "Current loss is:  0.04018522948545717\n",
      "Iteration 48:\n",
      "Current angles are:   [3.9541, 1.4527, 1.8947, 2.6799]\n",
      "Current position is:  [0.703, 0.7443, 6.198]\n",
      "Current loss is:  0.03676568407672116\n",
      "Iteration 49:\n",
      "Current angles are:   [3.9527, 1.451, 1.8976, 2.6856]\n",
      "Current position is:  [0.7033, 0.7424, 6.1899]\n",
      "Current loss is:  0.033644332906568125\n",
      "Iteration 50:\n",
      "Current angles are:   [3.9514, 1.4493, 1.9004, 2.691]\n",
      "Current position is:  [0.7035, 0.7407, 6.1822]\n",
      "Current loss is:  0.030794164593699724\n",
      "Iteration 51:\n",
      "Current angles are:   [3.9502, 1.4478, 1.9031, 2.6961]\n",
      "Current position is:  [0.7038, 0.739, 6.1748]\n",
      "Current loss is:  0.028190726784976958\n",
      "Iteration 52:\n",
      "Current angles are:   [3.9491, 1.4462, 1.9057, 2.7009]\n",
      "Current position is:  [0.704, 0.7375, 6.1677]\n",
      "Current loss is:  0.025811878700292293\n",
      "Iteration 53:\n",
      "Current angles are:   [3.948, 1.4448, 1.9083, 2.7054]\n",
      "Current position is:  [0.7042, 0.736, 6.161]\n",
      "Current loss is:  0.0236375653217449\n",
      "Iteration 54:\n",
      "Current angles are:   [3.947, 1.4434, 1.9107, 2.7096]\n",
      "Current position is:  [0.7044, 0.7346, 6.1545]\n",
      "Current loss is:  0.021649612462723122\n",
      "Iteration 55:\n",
      "Current angles are:   [3.946, 1.4421, 1.9131, 2.7136]\n",
      "Current position is:  [0.7045, 0.7333, 6.1483]\n",
      "Current loss is:  0.019831541535292263\n",
      "Iteration 56:\n",
      "Current angles are:   [3.9451, 1.4408, 1.9154, 2.7174]\n",
      "Current position is:  [0.7047, 0.732, 6.1424]\n",
      "Current loss is:  0.018168402609375345\n",
      "Iteration 57:\n",
      "Current angles are:   [3.9442, 1.4396, 1.9176, 2.721]\n",
      "Current position is:  [0.7048, 0.7308, 6.1368]\n",
      "Current loss is:  0.01664662426338094\n",
      "Iteration 58:\n",
      "Current angles are:   [3.9434, 1.4384, 1.9198, 2.7244]\n",
      "Current position is:  [0.705, 0.7297, 6.1314]\n",
      "Current loss is:  0.015253878718789481\n",
      "Iteration 59:\n",
      "Current angles are:   [3.9426, 1.4373, 1.9218, 2.7276]\n",
      "Current position is:  [0.7051, 0.7286, 6.1262]\n",
      "Current loss is:  0.013978960799397828\n",
      "Iteration 60:\n",
      "Current angles are:   [3.9419, 1.4363, 1.9238, 2.7307]\n",
      "Current position is:  [0.7052, 0.7276, 6.1213]\n",
      "Current loss is:  0.012811679337369406\n",
      "Iteration 61:\n",
      "Current angles are:   [3.9412, 1.4352, 1.9257, 2.7336]\n",
      "Current position is:  [0.7053, 0.7266, 6.1166]\n",
      "Current loss is:  0.01174275974771708\n",
      "Iteration 62:\n",
      "Current angles are:   [3.9405, 1.4342, 1.9276, 2.7363]\n",
      "Current position is:  [0.7054, 0.7257, 6.112]\n",
      "Current loss is:  0.010763756600114608\n",
      "Iteration 63:\n",
      "Current angles are:   [3.9399, 1.4333, 1.9294, 2.7389]\n",
      "Current position is:  [0.7055, 0.7249, 6.1077]\n",
      "Current loss is:  0.009866975125176276\n",
      "Iteration 64:\n",
      "Current angles are:   [3.9393, 1.4324, 1.9311, 2.7414]\n",
      "Current position is:  [0.7056, 0.7241, 6.1036]\n",
      "Current loss is:  0.00904540069727863\n",
      "Iteration 65:\n",
      "Current angles are:   [3.9387, 1.4315, 1.9328, 2.7437]\n",
      "Current position is:  [0.7057, 0.7233, 6.0996]\n",
      "Current loss is:  0.008292635435021362\n",
      "Iteration 66:\n",
      "Current angles are:   [3.9382, 1.4307, 1.9344, 2.7459]\n",
      "Current position is:  [0.7058, 0.7225, 6.0958]\n",
      "Current loss is:  0.007602841152187184\n",
      "Iteration 67:\n",
      "Current angles are:   [3.9377, 1.4299, 1.9359, 2.7481]\n",
      "Current position is:  [0.7058, 0.7218, 6.0922]\n",
      "Current loss is:  0.006970687975876568\n",
      "Iteration 68:\n",
      "Current angles are:   [3.9372, 1.4291, 1.9374, 2.7501]\n",
      "Current position is:  [0.7059, 0.7212, 6.0887]\n",
      "Current loss is:  0.006391308024364272\n",
      "Iteration 69:\n",
      "Current angles are:   [3.9367, 1.4284, 1.9388, 2.752]\n",
      "Current position is:  [0.706, 0.7205, 6.0854]\n",
      "Current loss is:  0.00586025360533657\n",
      "Iteration 70:\n",
      "Current angles are:   [3.9363, 1.4277, 1.9402, 2.7538]\n",
      "Current position is:  [0.706, 0.7199, 6.0822]\n",
      "Current loss is:  0.00537345945600134\n",
      "Iteration 71:\n",
      "Current angles are:   [3.9359, 1.427, 1.9416, 2.7555]\n",
      "Current position is:  [0.7061, 0.7193, 6.0791]\n",
      "Current loss is:  0.004927208600646187\n",
      "Iteration 72:\n",
      "Current angles are:   [3.9355, 1.4264, 1.9428, 2.7571]\n",
      "Current position is:  [0.7061, 0.7188, 6.0762]\n",
      "Current loss is:  0.004518101449171509\n",
      "Iteration 73:\n",
      "Current angles are:   [3.9351, 1.4258, 1.9441, 2.7587]\n",
      "Current position is:  [0.7062, 0.7183, 6.0734]\n",
      "Current loss is:  0.004143027802517158\n",
      "Iteration 74:\n",
      "Current angles are:   [3.9347, 1.4252, 1.9452, 2.7602]\n",
      "Current position is:  [0.7062, 0.7178, 6.0707]\n",
      "Current loss is:  0.0037991414683533125\n",
      "Iteration 75:\n",
      "Current angles are:   [3.9344, 1.4246, 1.9464, 2.7616]\n",
      "Current position is:  [0.7063, 0.7173, 6.0681]\n",
      "Current loss is:  0.0034838372234235124\n",
      "Iteration 76:\n",
      "Current angles are:   [3.9341, 1.4241, 1.9475, 2.763]\n",
      "Current position is:  [0.7063, 0.7169, 6.0657]\n",
      "Current loss is:  0.0031947298880617096\n",
      "Iteration 77:\n",
      "Current angles are:   [3.9338, 1.4235, 1.9485, 2.7642]\n",
      "Current position is:  [0.7064, 0.7164, 6.0633]\n",
      "Current loss is:  0.002929635304064257\n",
      "Iteration 78:\n",
      "Current angles are:   [3.9335, 1.423, 1.9495, 2.7655]\n",
      "Current position is:  [0.7064, 0.716, 6.0611]\n",
      "Current loss is:  0.002686553029749795\n",
      "Iteration 79:\n",
      "Current angles are:   [3.9332, 1.4225, 1.9505, 2.7666]\n",
      "Current position is:  [0.7064, 0.7156, 6.0589]\n",
      "Current loss is:  0.002463650586001612\n",
      "Iteration 80:\n",
      "Current angles are:   [3.9329, 1.4221, 1.9514, 2.7677]\n",
      "Current position is:  [0.7065, 0.7153, 6.0568]\n",
      "Current loss is:  0.002259249104720868\n",
      "Iteration 81:\n",
      "Current angles are:   [3.9326, 1.4216, 1.9523, 2.7688]\n",
      "Current position is:  [0.7065, 0.7149, 6.0548]\n",
      "Current loss is:  0.002071810246706023\n",
      "Iteration 82:\n",
      "Current angles are:   [3.9324, 1.4212, 1.9531, 2.7698]\n",
      "Current position is:  [0.7065, 0.7146, 6.0529]\n",
      "Current loss is:  0.0018999242697514164\n",
      "Iteration 83:\n",
      "Current angles are:   [3.9322, 1.4208, 1.954, 2.7708]\n",
      "Current position is:  [0.7065, 0.7142, 6.0511]\n",
      "Current loss is:  0.0017422991399679373\n",
      "Iteration 84:\n",
      "Current angles are:   [3.9319, 1.4204, 1.9548, 2.7717]\n",
      "Current position is:  [0.7066, 0.7139, 6.0494]\n",
      "Current loss is:  0.0015977505901562815\n",
      "Iteration 85:\n",
      "Current angles are:   [3.9317, 1.4201, 1.9555, 2.7726]\n",
      "Current position is:  [0.7066, 0.7136, 6.0477]\n",
      "Current loss is:  0.0014651930386824466\n",
      "Iteration 86:\n",
      "Current angles are:   [3.9315, 1.4197, 1.9562, 2.7734]\n",
      "Current position is:  [0.7066, 0.7134, 6.0461]\n",
      "Current loss is:  0.00134363129085262\n",
      "Iteration 87:\n",
      "Current angles are:   [3.9313, 1.4194, 1.9569, 2.7742]\n",
      "Current position is:  [0.7066, 0.7131, 6.0446]\n",
      "Current loss is:  0.0012321529524092054\n",
      "Iteration 88:\n",
      "Current angles are:   [3.9312, 1.419, 1.9576, 2.775]\n",
      "Current position is:  [0.7067, 0.7128, 6.0431]\n",
      "Current loss is:  0.0011299214915620427\n",
      "Iteration 89:\n",
      "Current angles are:   [3.931, 1.4187, 1.9583, 2.7757]\n",
      "Current position is:  [0.7067, 0.7126, 6.0417]\n",
      "Current loss is:  0.0010361698920494287\n",
      "Iteration 90:\n",
      "Current angles are:   [3.9308, 1.4184, 1.9589, 2.7764]\n",
      "Current position is:  [0.7067, 0.7124, 6.0404]\n",
      "Current loss is:  0.0009501948451508292\n",
      "Iteration 91:\n",
      "Current angles are:   [3.9306, 1.4181, 1.9595, 2.7771]\n",
      "Current position is:  [0.7067, 0.7121, 6.0391]\n",
      "Current loss is:  0.0008713514334524784\n",
      "Iteration 92:\n",
      "Current angles are:   [3.9305, 1.4178, 1.96, 2.7777]\n",
      "Current position is:  [0.7067, 0.7119, 6.0378]\n",
      "Current loss is:  0.0007990482635355385\n",
      "Iteration 93:\n",
      "Current angles are:   [3.9303, 1.4176, 1.9606, 2.7783]\n",
      "Current position is:  [0.7067, 0.7117, 6.0367]\n",
      "Current loss is:  0.0007327430086907194\n",
      "Iteration 94:\n",
      "Current angles are:   [3.9302, 1.4173, 1.9611, 2.7789]\n",
      "Current position is:  [0.7068, 0.7115, 6.0355]\n",
      "Current loss is:  0.0006719383262999274\n",
      "Iteration 95:\n",
      "Current angles are:   [3.9301, 1.4171, 1.9616, 2.7794]\n",
      "Current position is:  [0.7068, 0.7113, 6.0345]\n",
      "Current loss is:  0.0006161781177192718\n",
      "Iteration 96:\n",
      "Current angles are:   [3.9299, 1.4169, 1.9621, 2.78]\n",
      "Current position is:  [0.7068, 0.7112, 6.0334]\n",
      "Current loss is:  0.0005650441013739745\n",
      "Iteration 97:\n",
      "Current angles are:   [3.9298, 1.4166, 1.9625, 2.7805]\n",
      "Current position is:  [0.7068, 0.711, 6.0324]\n",
      "Current loss is:  0.0005181526723825306\n",
      "Iteration 98:\n",
      "Current angles are:   [3.9297, 1.4164, 1.963, 2.7809]\n",
      "Current position is:  [0.7068, 0.7108, 6.0315]\n",
      "Current loss is:  0.00047515202438018527\n",
      "Iteration 99:\n",
      "Current angles are:   [3.9296, 1.4162, 1.9634, 2.7814]\n",
      "Current position is:  [0.7068, 0.7107, 6.0306]\n",
      "Current loss is:  0.0004357195113466989\n",
      "Iteration 100:\n",
      "Current angles are:   [3.9295, 1.416, 1.9638, 2.7818]\n",
      "Current position is:  [0.7068, 0.7105, 6.0297]\n",
      "Current loss is:  0.0003995592291791692\n",
      "Iteration 101:\n",
      "Current angles are:   [3.9294, 1.4158, 1.9642, 2.7823]\n",
      "Current position is:  [0.7069, 0.7104, 6.0289]\n",
      "Current loss is:  0.00036639979850692253\n",
      "Iteration 102:\n",
      "Current angles are:   [3.9293, 1.4157, 1.9646, 2.7827]\n",
      "Current position is:  [0.7069, 0.7102, 6.0281]\n",
      "Current loss is:  0.0003359923318417433\n",
      "Iteration 103:\n",
      "Current angles are:   [3.9292, 1.4155, 1.9649, 2.7831]\n",
      "Current position is:  [0.7069, 0.7101, 6.0273]\n",
      "Current loss is:  0.00030810856960959904\n",
      "Iteration 104:\n",
      "Current angles are:   [3.9291, 1.4153, 1.9653, 2.7834]\n",
      "Current position is:  [0.7069, 0.71, 6.0266]\n",
      "Current loss is:  0.00028253917093106184\n",
      "Iteration 105:\n",
      "Current angles are:   [3.929, 1.4152, 1.9656, 2.7838]\n",
      "Current position is:  [0.7069, 0.7099, 6.0258]\n",
      "Current loss is:  0.0002590921462212313\n",
      "Iteration 106:\n",
      "Current angles are:   [3.9289, 1.415, 1.9659, 2.7841]\n",
      "Current position is:  [0.7069, 0.7098, 6.0252]\n",
      "Current loss is:  0.00023759141977839425\n",
      "Iteration 107:\n",
      "Current angles are:   [3.9289, 1.4149, 1.9662, 2.7844]\n",
      "Current position is:  [0.7069, 0.7097, 6.0245]\n",
      "Current loss is:  0.0002178755115313569\n",
      "Iteration 108:\n",
      "Current angles are:   [3.9288, 1.4147, 1.9665, 2.7847]\n",
      "Current position is:  [0.7069, 0.7096, 6.0239]\n",
      "Current loss is:  0.00019979632802820055\n",
      "Iteration 109:\n",
      "Current angles are:   [3.9287, 1.4146, 1.9668, 2.785]\n",
      "Current position is:  [0.7069, 0.7095, 6.0233]\n",
      "Current loss is:  0.00018321805358538571\n",
      "Iteration 110:\n",
      "Current angles are:   [3.9286, 1.4145, 1.9671, 2.7853]\n",
      "Current position is:  [0.7069, 0.7094, 6.0228]\n",
      "Current loss is:  0.00016801613327731575\n",
      "Iteration 111:\n",
      "Current angles are:   [3.9286, 1.4143, 1.9673, 2.7856]\n",
      "Current position is:  [0.7069, 0.7093, 6.0222]\n",
      "Current loss is:  0.0001540763401437773\n",
      "Iteration 112:\n",
      "Current angles are:   [3.9285, 1.4142, 1.9676, 2.7858]\n",
      "Current position is:  [0.7069, 0.7092, 6.0217]\n",
      "Current loss is:  0.00014129391962942176\n",
      "Iteration 113:\n",
      "Current angles are:   [3.9285, 1.4141, 1.9678, 2.7861]\n",
      "Current position is:  [0.7069, 0.7091, 6.0212]\n",
      "Current loss is:  0.0001295728048540682\n",
      "Iteration 114:\n",
      "Current angles are:   [3.9284, 1.414, 1.968, 2.7863]\n",
      "Current position is:  [0.7069, 0.709, 6.0207]\n",
      "Current loss is:  0.00011882489684438956\n",
      "Iteration 115:\n",
      "Current angles are:   [3.9283, 1.4139, 1.9682, 2.7865]\n",
      "Current position is:  [0.707, 0.7089, 6.0203]\n",
      "Current loss is:  0.00010896940434689774\n",
      "Iteration 116:\n",
      "Current angles are:   [3.9283, 1.4138, 1.9684, 2.7868]\n",
      "Current position is:  [0.707, 0.7089, 6.0198]\n",
      "Current loss is:  9.993223828962273e-05\n",
      "Iteration 117:\n",
      "Current angles are:   [3.9282, 1.4137, 1.9686, 2.787]\n",
      "Current position is:  [0.707, 0.7088, 6.0194]\n",
      "Current loss is:  9.164545636891699e-05\n",
      "Iteration 118:\n",
      "Current angles are:   [3.9282, 1.4136, 1.9688, 2.7872]\n",
      "Current position is:  [0.707, 0.7087, 6.019]\n",
      "Current loss is:  8.404675361354783e-05\n",
      "Iteration 119:\n",
      "Current angles are:   [3.9281, 1.4135, 1.969, 2.7873]\n",
      "Current position is:  [0.707, 0.7087, 6.0186]\n",
      "Current loss is:  7.707899512214114e-05\n",
      "Iteration 120:\n",
      "Current angles are:   [3.9281, 1.4134, 1.9692, 2.7875]\n",
      "Current position is:  [0.707, 0.7086, 6.0183]\n",
      "Current loss is:  7.06897874851184e-05\n",
      "Iteration 121:\n",
      "Current angles are:   [3.9281, 1.4134, 1.9693, 2.7877]\n",
      "Current position is:  [0.707, 0.7086, 6.0179]\n",
      "Current loss is:  6.483108569086409e-05\n",
      "Iteration 122:\n",
      "Current angles are:   [3.928, 1.4133, 1.9695, 2.7879]\n",
      "Current position is:  [0.707, 0.7085, 6.0176]\n",
      "Current loss is:  5.9458832581652654e-05\n",
      "Iteration 123:\n",
      "Current angles are:   [3.928, 1.4132, 1.9697, 2.788]\n",
      "Current position is:  [0.707, 0.7084, 6.0173]\n",
      "Current loss is:  5.453262816635096e-05\n",
      "Iteration 124:\n",
      "Current angles are:   [3.9279, 1.4132, 1.9698, 2.7882]\n",
      "Current position is:  [0.707, 0.7084, 6.0169]\n",
      "Current loss is:  5.0015426320825384e-05\n",
      "Iteration 125:\n",
      "Current angles are:   [3.9279, 1.4131, 1.9699, 2.7883]\n",
      "Current position is:  [0.707, 0.7084, 6.0167]\n",
      "Current loss is:  4.58732566106498e-05\n",
      "Iteration 126:\n",
      "Current angles are:   [3.9279, 1.413, 1.9701, 2.7885]\n",
      "Current position is:  [0.707, 0.7083, 6.0164]\n",
      "Current loss is:  4.20749691574891e-05\n",
      "Iteration 127:\n",
      "Current angles are:   [3.9278, 1.413, 1.9702, 2.7886]\n",
      "Current position is:  [0.707, 0.7083, 6.0161]\n",
      "Current loss is:  3.8592000643486484e-05\n",
      "Iteration 128:\n",
      "Current angles are:   [3.9278, 1.4129, 1.9703, 2.7887]\n",
      "Current position is:  [0.707, 0.7082, 6.0158]\n",
      "Current loss is:  3.5398159704375405e-05\n",
      "Iteration 129:\n",
      "Current angles are:   [3.9278, 1.4128, 1.9704, 2.7888]\n",
      "Current position is:  [0.707, 0.7082, 6.0156]\n",
      "Current loss is:  3.246943010722735e-05\n",
      "Iteration 130:\n",
      "Current angles are:   [3.9278, 1.4128, 1.9706, 2.789]\n",
      "Current position is:  [0.707, 0.7081, 6.0154]\n",
      "Current loss is:  2.9783790241312538e-05\n",
      "Iteration 131:\n",
      "Current angles are:   [3.9277, 1.4127, 1.9707, 2.7891]\n",
      "Current position is:  [0.707, 0.7081, 6.0151]\n",
      "Current loss is:  2.7321047571465672e-05\n",
      "Iteration 132:\n",
      "Current angles are:   [3.9277, 1.4127, 1.9708, 2.7892]\n",
      "Current position is:  [0.707, 0.7081, 6.0149]\n",
      "Current loss is:  2.5062686816280425e-05\n",
      "Iteration 133:\n",
      "Current angles are:   [3.9277, 1.4126, 1.9709, 2.7893]\n",
      "Current position is:  [0.707, 0.708, 6.0147]\n",
      "Current loss is:  2.299173071413325e-05\n",
      "Iteration 134:\n",
      "Current angles are:   [3.9277, 1.4126, 1.971, 2.7894]\n",
      "Current position is:  [0.707, 0.708, 6.0145]\n",
      "Current loss is:  2.1092612335345024e-05\n",
      "Iteration 135:\n",
      "Current angles are:   [3.9276, 1.4126, 1.9711, 2.7895]\n",
      "Current position is:  [0.707, 0.708, 6.0143]\n",
      "Current loss is:  1.9351057984390162e-05\n",
      "Iteration 136:\n",
      "Current angles are:   [3.9276, 1.4125, 1.9711, 2.7895]\n",
      "Current position is:  [0.707, 0.7079, 6.0141]\n",
      "Current loss is:  1.7753979814705575e-05\n",
      "Iteration 137:\n",
      "Current angles are:   [3.9276, 1.4125, 1.9712, 2.7896]\n",
      "Current position is:  [0.707, 0.7079, 6.0139]\n",
      "Current loss is:  1.6289377352073674e-05\n",
      "Iteration 138:\n",
      "Current angles are:   [3.9276, 1.4124, 1.9713, 2.7897]\n",
      "Current position is:  [0.707, 0.7079, 6.0138]\n",
      "Current loss is:  1.4946247188215725e-05\n",
      "Iteration 139:\n",
      "Current angles are:   [3.9276, 1.4124, 1.9714, 2.7898]\n",
      "Current position is:  [0.707, 0.7079, 6.0136]\n",
      "Current loss is:  1.3714500167798518e-05\n",
      "Iteration 140:\n",
      "Current angles are:   [3.9275, 1.4124, 1.9715, 2.7899]\n",
      "Current position is:  [0.707, 0.7078, 6.0135]\n",
      "Current loss is:  1.258488544789244e-05\n",
      "Iteration 141:\n",
      "Current angles are:   [3.9275, 1.4123, 1.9715, 2.7899]\n",
      "Current position is:  [0.707, 0.7078, 6.0133]\n",
      "Current loss is:  1.1548920860161768e-05\n",
      "Iteration 142:\n",
      "Current angles are:   [3.9275, 1.4123, 1.9716, 2.79]\n",
      "Current position is:  [0.707, 0.7078, 6.0132]\n",
      "Current loss is:  1.0598829053498144e-05\n",
      "Iteration 143:\n",
      "Current angles are:   [3.9275, 1.4123, 1.9717, 2.7901]\n",
      "Current position is:  [0.707, 0.7078, 6.013]\n",
      "Current loss is:  9.727478937720233e-06\n",
      "Iteration 144:\n",
      "Current angles are:   [3.9275, 1.4122, 1.9717, 2.7901]\n",
      "Current position is:  [0.707, 0.7077, 6.0129]\n",
      "Current loss is:  8.92833198884513e-06\n",
      "Iteration 145:\n",
      "Current angles are:   [3.9275, 1.4122, 1.9718, 2.7902]\n",
      "Current position is:  [0.707, 0.7077, 6.0128]\n",
      "Current loss is:  8.195393012812253e-06\n",
      "Iteration 146:\n",
      "Current angles are:   [3.9274, 1.4122, 1.9718, 2.7903]\n",
      "Current position is:  [0.707, 0.7077, 6.0127]\n",
      "Current loss is:  7.523164997748496e-06\n",
      "Iteration 147:\n",
      "Current angles are:   [3.9274, 1.4122, 1.9719, 2.7903]\n",
      "Current position is:  [0.707, 0.7077, 6.0126]\n",
      "Current loss is:  6.906607715681547e-06\n",
      "Iteration 148:\n",
      "Current angles are:   [3.9274, 1.4121, 1.9719, 2.7904]\n",
      "Current position is:  [0.707, 0.7077, 6.0124]\n",
      "Current loss is:  6.3410997626980745e-06\n",
      "Iteration 149:\n",
      "Current angles are:   [3.9274, 1.4121, 1.972, 2.7904]\n",
      "Current position is:  [0.707, 0.7076, 6.0123]\n",
      "Current loss is:  5.822403752110942e-06\n",
      "Iteration 150:\n",
      "Current angles are:   [3.9274, 1.4121, 1.972, 2.7905]\n",
      "Current position is:  [0.707, 0.7076, 6.0122]\n",
      "Current loss is:  5.346634399052554e-06\n",
      "Iteration 151:\n",
      "Current angles are:   [3.9274, 1.4121, 1.9721, 2.7905]\n",
      "Current position is:  [0.707, 0.7076, 6.0121]\n",
      "Current loss is:  4.910229256521896e-06\n",
      "Iteration 152:\n",
      "Current angles are:   [3.9274, 1.412, 1.9721, 2.7906]\n",
      "Current position is:  [0.707, 0.7076, 6.0121]\n",
      "Current loss is:  4.509921882770144e-06\n",
      "Iteration 153:\n",
      "Current angles are:   [3.9274, 1.412, 1.9722, 2.7906]\n",
      "Current position is:  [0.707, 0.7076, 6.012]\n",
      "Current loss is:  4.142717238186448e-06\n",
      "Iteration 154:\n",
      "Current angles are:   [3.9273, 1.412, 1.9722, 2.7906]\n",
      "Current position is:  [0.7071, 0.7076, 6.0119]\n",
      "Current loss is:  3.805869126606528e-06\n",
      "Iteration 155:\n",
      "Current angles are:   [3.9273, 1.412, 1.9722, 2.7907]\n",
      "Current position is:  [0.7071, 0.7076, 6.0118]\n",
      "Current loss is:  3.496859511227365e-06\n",
      "Iteration 156:\n",
      "Current angles are:   [3.9273, 1.412, 1.9723, 2.7907]\n",
      "Current position is:  [0.7071, 0.7075, 6.0117]\n",
      "Current loss is:  3.213379549545617e-06\n",
      "Iteration 157:\n",
      "Current angles are:   [3.9273, 1.412, 1.9723, 2.7907]\n",
      "Current position is:  [0.7071, 0.7075, 6.0117]\n",
      "Current loss is:  2.9533122044527933e-06\n",
      "Iteration 158:\n",
      "Current angles are:   [3.9273, 1.4119, 1.9723, 2.7908]\n",
      "Current position is:  [0.7071, 0.7075, 6.0116]\n",
      "Current loss is:  2.714716300626302e-06\n",
      "Iteration 159:\n",
      "Current angles are:   [3.9273, 1.4119, 1.9724, 2.7908]\n",
      "Current position is:  [0.7071, 0.7075, 6.0115]\n",
      "Current loss is:  2.495811906155486e-06\n",
      "Iteration 160:\n",
      "Current angles are:   [3.9273, 1.4119, 1.9724, 2.7908]\n",
      "Current position is:  [0.7071, 0.7075, 6.0115]\n",
      "Current loss is:  2.2949669292970263e-06\n",
      "Iteration 161:\n",
      "Current angles are:   [3.9273, 1.4119, 1.9724, 2.7909]\n",
      "Current position is:  [0.7071, 0.7075, 6.0114]\n",
      "Current loss is:  2.110684829400764e-06\n",
      "Iteration 162:\n",
      "Current angles are:   [3.9273, 1.4119, 1.9725, 2.7909]\n",
      "Current position is:  [0.7071, 0.7075, 6.0113]\n",
      "Current loss is:  1.941593349426836e-06\n",
      "Iteration 163:\n",
      "Current angles are:   [3.9273, 1.4119, 1.9725, 2.7909]\n",
      "Current position is:  [0.7071, 0.7075, 6.0113]\n",
      "Current loss is:  1.7864341851898345e-06\n",
      "Iteration 164:\n",
      "Current angles are:   [3.9273, 1.4119, 1.9725, 2.791]\n",
      "Current position is:  [0.7071, 0.7075, 6.0112]\n",
      "Current loss is:  1.6440535134517698e-06\n",
      "Iteration 165:\n",
      "Current angles are:   [3.9273, 1.4118, 1.9725, 2.791]\n",
      "Current position is:  [0.7071, 0.7075, 6.0112]\n",
      "Current loss is:  1.5133933075056371e-06\n",
      "Iteration 166:\n",
      "Current angles are:   [3.9273, 1.4118, 1.9726, 2.791]\n",
      "Current position is:  [0.7071, 0.7074, 6.0111]\n",
      "Current loss is:  1.3934833747854836e-06\n",
      "Iteration 167:\n",
      "Current angles are:   [3.9273, 1.4118, 1.9726, 2.791]\n",
      "Current position is:  [0.7071, 0.7074, 6.0111]\n",
      "Current loss is:  1.2834340565042207e-06\n",
      "Iteration 168:\n",
      "Current angles are:   [3.9272, 1.4118, 1.9726, 2.791]\n",
      "Current position is:  [0.7071, 0.7074, 6.011]\n",
      "Current loss is:  1.1824295342740576e-06\n",
      "Iteration 169:\n",
      "Current angles are:   [3.9272, 1.4118, 1.9726, 2.7911]\n",
      "Current position is:  [0.7071, 0.7074, 6.011]\n",
      "Current loss is:  1.0897216932639985e-06\n",
      "Iteration 170:\n",
      "Current angles are:   [3.9272, 1.4118, 1.9727, 2.7911]\n",
      "Current position is:  [0.7071, 0.7074, 6.0109]\n",
      "Current loss is:  1.0046244955921524e-06\n",
      "Iteration 171:\n",
      "Current angles are:   [3.9272, 1.4118, 1.9727, 2.7911]\n",
      "Current position is:  [0.7071, 0.7074, 6.0109]\n",
      "Current loss is:  9.265088215912553e-07\n",
      "Iteration 172:\n",
      "Current angles are:   [3.9272, 1.4118, 1.9727, 2.7911]\n",
      "Current position is:  [0.7071, 0.7074, 6.0109]\n",
      "Current loss is:  8.54797740006716e-07\n",
      "Iteration 173:\n",
      "Current angles are:   [3.9272, 1.4118, 1.9727, 2.7911]\n",
      "Current position is:  [0.7071, 0.7074, 6.0108]\n",
      "Current loss is:  7.88962171456317e-07\n",
      "Iteration 174:\n",
      "Current angles are:   [3.9272, 1.4118, 1.9727, 2.7912]\n",
      "Current position is:  [0.7071, 0.7074, 6.0108]\n",
      "Current loss is:  7.285169124795103e-07\n",
      "Iteration 175:\n",
      "Current angles are:   [3.9272, 1.4118, 1.9727, 2.7912]\n",
      "Current position is:  [0.7071, 0.7074, 6.0108]\n",
      "Current loss is:  6.730169901867494e-07\n",
      "Iteration 176:\n",
      "Current angles are:   [3.9272, 1.4117, 1.9728, 2.7912]\n",
      "Current position is:  [0.7071, 0.7074, 6.0107]\n",
      "Current loss is:  6.220543199944628e-07\n",
      "Iteration 177:\n",
      "Current angles are:   [3.9272, 1.4117, 1.9728, 2.7912]\n",
      "Current position is:  [0.7071, 0.7074, 6.0107]\n",
      "Current loss is:  5.752546412609514e-07\n",
      "Iteration 178:\n",
      "Current angles are:   [3.9272, 1.4117, 1.9728, 2.7912]\n",
      "Current position is:  [0.7071, 0.7074, 6.0107]\n",
      "Current loss is:  5.322747077283268e-07\n",
      "Iteration 179:\n",
      "Current angles are:   [3.9272, 1.4117, 1.9728, 2.7912]\n",
      "Current position is:  [0.7071, 0.7074, 6.0106]\n",
      "Current loss is:  4.927997115382377e-07\n",
      "Iteration 180:\n",
      "Current angles are:   [3.9272, 1.4117, 1.9728, 2.7913]\n",
      "Current position is:  [0.7071, 0.7074, 6.0106]\n",
      "Current loss is:  4.5654092142224327e-07\n",
      "Iteration 181:\n",
      "Current angles are:   [3.9272, 1.4117, 1.9728, 2.7913]\n",
      "Current position is:  [0.7071, 0.7074, 6.0106]\n",
      "Current loss is:  4.2323351727068845e-07\n",
      "Iteration 182:\n",
      "Current angles are:   [3.9272, 1.4117, 1.9728, 2.7913]\n",
      "Current position is:  [0.7071, 0.7074, 6.0106]\n",
      "Current loss is:  3.9263460470678485e-07\n",
      "Iteration 183:\n",
      "Current angles are:   [3.9272, 1.4117, 1.9729, 2.7913]\n",
      "Current position is:  [0.7071, 0.7074, 6.0105]\n",
      "Current loss is:  3.6452139473232056e-07\n",
      "Iteration 184:\n",
      "Current angles are:   [3.9272, 1.4117, 1.9729, 2.7913]\n",
      "Current position is:  [0.7071, 0.7073, 6.0105]\n",
      "Current loss is:  3.386895346901565e-07\n",
      "Iteration 185:\n",
      "Current angles are:   [3.9272, 1.4117, 1.9729, 2.7913]\n",
      "Current position is:  [0.7071, 0.7073, 6.0105]\n",
      "Current loss is:  3.149515779798573e-07\n",
      "Iteration 186:\n",
      "Current angles are:   [3.9272, 1.4117, 1.9729, 2.7913]\n",
      "Current position is:  [0.7071, 0.7073, 6.0105]\n",
      "Current loss is:  2.9313558096612075e-07\n",
      "Iteration 187:\n",
      "Current angles are:   [3.9272, 1.4117, 1.9729, 2.7913]\n",
      "Current position is:  [0.7071, 0.7073, 6.0104]\n",
      "Current loss is:  2.7308381652485976e-07\n",
      "Iteration 188:\n",
      "Current angles are:   [3.9272, 1.4117, 1.9729, 2.7913]\n",
      "Current position is:  [0.7071, 0.7073, 6.0104]\n",
      "Current loss is:  2.5465159448783076e-07\n",
      "Iteration 189:\n",
      "Current angles are:   [3.9272, 1.4117, 1.9729, 2.7913]\n",
      "Current position is:  [0.7071, 0.7073, 6.0104]\n",
      "Current loss is:  2.377061801488929e-07\n",
      "Iteration 190:\n",
      "Current angles are:   [3.9272, 1.4117, 1.9729, 2.7914]\n",
      "Current position is:  [0.7071, 0.7073, 6.0104]\n",
      "Current loss is:  2.2212580263080318e-07\n",
      "Iteration 191:\n",
      "Current angles are:   [3.9272, 1.4117, 1.9729, 2.7914]\n",
      "Current position is:  [0.7071, 0.7073, 6.0104]\n",
      "Current loss is:  2.0779874565327442e-07\n",
      "Iteration 192:\n",
      "Current angles are:   [3.9272, 1.4117, 1.9729, 2.7914]\n",
      "Current position is:  [0.7071, 0.7073, 6.0104]\n",
      "Current loss is:  1.9462251386006398e-07\n",
      "Iteration 193:\n",
      "Current angles are:   [3.9272, 1.4117, 1.9729, 2.7914]\n",
      "Current position is:  [0.7071, 0.7073, 6.0103]\n",
      "Current loss is:  1.825030684105764e-07\n",
      "Iteration 194:\n",
      "Current angles are:   [3.9272, 1.4117, 1.9729, 2.7914]\n",
      "Current position is:  [0.7071, 0.7073, 6.0103]\n",
      "Current loss is:  1.7135412607388154e-07\n",
      "Iteration 195:\n",
      "Current angles are:   [3.9272, 1.4117, 1.973, 2.7914]\n",
      "Current position is:  [0.7071, 0.7073, 6.0103]\n",
      "Current loss is:  1.6109651654747328e-07\n",
      "Iteration 196:\n",
      "Current angles are:   [3.9272, 1.4117, 1.973, 2.7914]\n",
      "Current position is:  [0.7071, 0.7073, 6.0103]\n",
      "Current loss is:  1.5165759316901116e-07\n",
      "Iteration 197:\n",
      "Current angles are:   [3.9272, 1.4117, 1.973, 2.7914]\n",
      "Current position is:  [0.7071, 0.7073, 6.0103]\n",
      "Current loss is:  1.4297069255973434e-07\n",
      "Iteration 198:\n",
      "Current angles are:   [3.9272, 1.4116, 1.973, 2.7914]\n",
      "Current position is:  [0.7071, 0.7073, 6.0103]\n",
      "Current loss is:  1.3497463914645347e-07\n",
      "Iteration 199:\n",
      "Current angles are:   [3.9272, 1.4116, 1.973, 2.7914]\n",
      "Current position is:  [0.7071, 0.7073, 6.0103]\n",
      "Current loss is:  1.276132908360104e-07\n",
      "Starting Angles: [3.14159265 1.57079633 1.57079633 1.57079633]:\n",
      "Current Angles are:  [3.9272, 1.4116, 1.973, 2.7914]\n",
      "Desired position is:  [0.7071, 0.7071, 6.01]\n",
      "Current position is:  [0.7071, 0.7073, 6.0103]\n",
      "Current loss is:  1.276132908360104e-07\n"
     ]
    },
    {
     "data": {
      "text/plain": [
       "array([0.70706863, 0.70730766, 6.01025483])"
      ]
     },
     "execution_count": 20,
     "metadata": {},
     "output_type": "execute_result"
    }
   ],
   "source": [
    "angles_estimate = arm.get_angles_for_GP_position(desired_position, echo=False)\n",
    "achieved_position = arm.get_GP_position_at_angles(angles_estimate)\n",
    "achieved_position"
   ]
  },
  {
   "cell_type": "markdown",
   "metadata": {},
   "source": [
    "# I think the above is a great example of a local minima. I think it is locally if change the j component without increasing loss.\n",
    "# I will try adding in the tries mechanism to fix this"
   ]
  },
  {
   "cell_type": "code",
   "execution_count": 21,
   "metadata": {},
   "outputs": [
    {
     "data": {
      "text/plain": [
       "array([1.04719755, 2.51327412, 0.44879895, 2.35619449])"
      ]
     },
     "execution_count": 21,
     "metadata": {},
     "output_type": "execute_result"
    }
   ],
   "source": [
    "some_angles = np.array([np.pi/3, 4*np.pi/5, np.pi/7, 3*np.pi/4])\n",
    "some_angles"
   ]
  },
  {
   "cell_type": "code",
   "execution_count": 22,
   "metadata": {},
   "outputs": [
    {
     "data": {
      "text/plain": [
       "array([-1.31971084, -2.28580623,  5.55321701])"
      ]
     },
     "execution_count": 22,
     "metadata": {},
     "output_type": "execute_result"
    }
   ],
   "source": [
    "desired_position = arm.get_GP_position_at_angles(some_angles)\n",
    "desired_position"
   ]
  },
  {
   "cell_type": "code",
   "execution_count": 23,
   "metadata": {},
   "outputs": [
    {
     "data": {
      "text/plain": [
       "array([1.0327706 , 1.70628507, 2.09861234, 2.49749187])"
      ]
     },
     "execution_count": 23,
     "metadata": {},
     "output_type": "execute_result"
    }
   ],
   "source": [
    "angles_estimated_from_position = arm.get_angles_for_GP_position(desired_position)\n",
    "angles_estimated_from_position"
   ]
  },
  {
   "cell_type": "code",
   "execution_count": 24,
   "metadata": {},
   "outputs": [
    {
     "data": {
      "text/plain": [
       "array([-1.35104615, -2.26401025,  5.52922696])"
      ]
     },
     "execution_count": 24,
     "metadata": {},
     "output_type": "execute_result"
    }
   ],
   "source": [
    "resulting_position = arm.get_GP_position_at_angles(angles_estimated_from_position)\n",
    "resulting_position"
   ]
  }
 ],
 "metadata": {
  "kernelspec": {
   "display_name": "Python 3",
   "language": "python",
   "name": "python3"
  },
  "language_info": {
   "codemirror_mode": {
    "name": "ipython",
    "version": 3
   },
   "file_extension": ".py",
   "mimetype": "text/x-python",
   "name": "python",
   "nbconvert_exporter": "python",
   "pygments_lexer": "ipython3",
   "version": "3.11.7"
  }
 },
 "nbformat": 4,
 "nbformat_minor": 2
}
