{
 "cells": [
  {
   "cell_type": "code",
   "execution_count": 1,
   "metadata": {},
   "outputs": [],
   "source": [
    "from arm import *"
   ]
  },
  {
   "cell_type": "code",
   "execution_count": 2,
   "metadata": {},
   "outputs": [],
   "source": [
    "range_limiter = do.Range_Limiter_Scalar(0, pi)"
   ]
  },
  {
   "cell_type": "code",
   "execution_count": 3,
   "metadata": {},
   "outputs": [
    {
     "data": {
      "text/plain": [
       "1.1686963357062937e-43"
      ]
     },
     "execution_count": 3,
     "metadata": {},
     "output_type": "execute_result"
    }
   ],
   "source": [
    "range_limiter.map_scalar_to_target_interval(-100)"
   ]
  },
  {
   "cell_type": "code",
   "execution_count": 4,
   "metadata": {},
   "outputs": [
    {
     "data": {
      "text/plain": [
       "3.141592653589793"
      ]
     },
     "execution_count": 4,
     "metadata": {},
     "output_type": "execute_result"
    }
   ],
   "source": [
    "range_limiter.map_scalar_to_target_interval(100)"
   ]
  },
  {
   "cell_type": "code",
   "execution_count": 5,
   "metadata": {},
   "outputs": [
    {
     "data": {
      "text/plain": [
       "0.00014260866166367913"
      ]
     },
     "execution_count": 5,
     "metadata": {},
     "output_type": "execute_result"
    }
   ],
   "source": [
    "range_limiter.derivative_of_mapping(10)"
   ]
  },
  {
   "cell_type": "code",
   "execution_count": 6,
   "metadata": {},
   "outputs": [
    {
     "data": {
      "text/plain": [
       "0.39269908169872414"
      ]
     },
     "execution_count": 6,
     "metadata": {},
     "output_type": "execute_result"
    }
   ],
   "source": [
    "range_limiter.derivative_of_mapping(0)"
   ]
  },
  {
   "cell_type": "code",
   "execution_count": 7,
   "metadata": {},
   "outputs": [
    {
     "data": {
      "text/plain": [
       "0.00013978344426319542"
      ]
     },
     "execution_count": 7,
     "metadata": {},
     "output_type": "execute_result"
    }
   ],
   "source": [
    "range_limiter.derivative_of_mapping(-5)"
   ]
  },
  {
   "cell_type": "code",
   "execution_count": 8,
   "metadata": {},
   "outputs": [],
   "source": [
    "range_limiter_vector = do.Range_Limit_Vector((\n",
    "    (0, 2*pi),\n",
    "    (0, pi),\n",
    "    (0, pi),\n",
    "    (0, pi),\n",
    "))"
   ]
  },
  {
   "cell_type": "code",
   "execution_count": 9,
   "metadata": {},
   "outputs": [
    {
     "data": {
      "text/plain": [
       "array([3.14159265, 1.57079633, 1.57079633, 1.57079633])"
      ]
     },
     "execution_count": 9,
     "metadata": {},
     "output_type": "execute_result"
    }
   ],
   "source": [
    "range_limiter_vector.function(\n",
    "    np.array([0,0,0,0])\n",
    ")"
   ]
  },
  {
   "cell_type": "code",
   "execution_count": 10,
   "metadata": {},
   "outputs": [
    {
     "data": {
      "text/plain": [
       "array([[0.78539816, 0.        , 0.        , 0.        ],\n",
       "       [0.        , 0.39269908, 0.        , 0.        ],\n",
       "       [0.        , 0.        , 0.39269908, 0.        ],\n",
       "       [0.        , 0.        , 0.        , 0.39269908]])"
      ]
     },
     "execution_count": 10,
     "metadata": {},
     "output_type": "execute_result"
    }
   ],
   "source": [
    "range_limiter_vector.derivative_WR_vector(\n",
    "    np.array([0,0,0,0])\n",
    ")"
   ]
  },
  {
   "cell_type": "code",
   "execution_count": 11,
   "metadata": {},
   "outputs": [],
   "source": [
    "arm = Leipzig_Robot_Arm()"
   ]
  },
  {
   "cell_type": "code",
   "execution_count": 12,
   "metadata": {},
   "outputs": [
    {
     "data": {
      "text/plain": [
       "array([0., 0., 7.])"
      ]
     },
     "execution_count": 12,
     "metadata": {},
     "output_type": "execute_result"
    }
   ],
   "source": [
    "arm.get_GP_position_at_angles(\n",
    "    np.array([0, pi/2, pi/2, pi/2])\n",
    ")"
   ]
  },
  {
   "cell_type": "code",
   "execution_count": 13,
   "metadata": {},
   "outputs": [
    {
     "data": {
      "text/plain": [
       "array([0., 0., 7.])"
      ]
     },
     "execution_count": 13,
     "metadata": {},
     "output_type": "execute_result"
    }
   ],
   "source": [
    "arm.get_GP_position_at_angles(\n",
    "    np.array([pi, pi/2, pi/2, pi/2])\n",
    ")"
   ]
  },
  {
   "cell_type": "code",
   "execution_count": 14,
   "metadata": {},
   "outputs": [
    {
     "data": {
      "text/plain": [
       "array([ 6.123234e-17, -1.000000e+00,  6.000000e+00])"
      ]
     },
     "execution_count": 14,
     "metadata": {},
     "output_type": "execute_result"
    }
   ],
   "source": [
    "arm.get_GP_position_at_angles(\n",
    "    np.array([0, pi/2, pi/2, pi])\n",
    ")"
   ]
  },
  {
   "cell_type": "code",
   "execution_count": 15,
   "metadata": {},
   "outputs": [
    {
     "data": {
      "text/plain": [
       "array([3.14159265, 1.57079633, 1.57079633, 1.57079633])"
      ]
     },
     "execution_count": 15,
     "metadata": {},
     "output_type": "execute_result"
    }
   ],
   "source": [
    "angles = range_limiter_vector.function([0,0,0,0])\n",
    "angles"
   ]
  },
  {
   "cell_type": "code",
   "execution_count": 16,
   "metadata": {},
   "outputs": [
    {
     "data": {
      "text/plain": [
       "array([0.        , 1.57079633, 1.57079633, 1.57079633])"
      ]
     },
     "execution_count": 16,
     "metadata": {},
     "output_type": "execute_result"
    }
   ],
   "source": [
    "np.array([0, pi/2, pi/2, pi/2])"
   ]
  },
  {
   "cell_type": "code",
   "execution_count": 17,
   "metadata": {},
   "outputs": [
    {
     "data": {
      "text/plain": [
       "array([0., 0., 7.])"
      ]
     },
     "execution_count": 17,
     "metadata": {},
     "output_type": "execute_result"
    }
   ],
   "source": [
    "arm.get_GP_position_at_angles(angles)"
   ]
  },
  {
   "cell_type": "code",
   "execution_count": 18,
   "metadata": {},
   "outputs": [
    {
     "data": {
      "text/plain": [
       "array([0., 0., 7.])"
      ]
     },
     "execution_count": 18,
     "metadata": {},
     "output_type": "execute_result"
    }
   ],
   "source": [
    "desired_position = np.array([0., 0., 7.])\n",
    "angles_estimate = arm.get_angles_for_GP_position(desired_position)\n",
    "achieved_position = arm.get_GP_position_at_angles(angles_estimate)\n",
    "achieved_position"
   ]
  },
  {
   "cell_type": "code",
   "execution_count": 19,
   "metadata": {},
   "outputs": [
    {
     "data": {
      "text/plain": [
       "array([-0.70707143,  0.70707143,  6.00999983])"
      ]
     },
     "execution_count": 19,
     "metadata": {},
     "output_type": "execute_result"
    }
   ],
   "source": [
    "some_angles = np.array([pi/4, pi/2, pi/2, 0.01])\n",
    "desired_position = arm.get_GP_position_at_angles(some_angles)\n",
    "desired_position"
   ]
  },
  {
   "cell_type": "code",
   "execution_count": 20,
   "metadata": {},
   "outputs": [
    {
     "name": "stdout",
     "output_type": "stream",
     "text": [
      "Iteration 0:\n",
      "Current angles are:   [1.6797, 1.5926, 1.5926, 1.5926]\n",
      "Current position is:  [0.0, 0.0, 7.0]\n",
      "Current loss is:  1.9800003333316667\n",
      "Iteration 1:\n",
      "Current angles are:   [1.8112, 1.5917, 1.5947, 1.5978]\n",
      "Current position is:  [0.2168, 0.0237, 6.9952]\n",
      "Current loss is:  2.291195515039257\n",
      "Iteration 2:\n",
      "Current angles are:   [1.9445, 1.5786, 1.5847, 1.5913]\n",
      "Current position is:  [0.2175, 0.0533, 6.9948]\n",
      "Current loss is:  2.2519868194905532\n",
      "Iteration 3:\n",
      "Current angles are:   [2.063, 1.5601, 1.5678, 1.5767]\n",
      "Current position is:  [0.1013, 0.0397, 6.9985]\n",
      "Current loss is:  2.0760970863379704\n",
      "Iteration 4:\n",
      "Current angles are:   [2.1579, 1.5405, 1.5478, 1.5571]\n",
      "Current position is:  [-0.0591, -0.0317, 6.9996]\n",
      "Current loss is:  1.944969696293099\n",
      "Iteration 5:\n",
      "Current angles are:   [2.228, 1.5218, 1.5271, 1.5351]\n",
      "Current position is:  [-0.2204, -0.1466, 6.9935]\n",
      "Current loss is:  1.9330121410922638\n",
      "Iteration 6:\n",
      "Current angles are:   [2.2763, 1.5056, 1.5075, 1.5127]\n",
      "Current position is:  [-0.364, -0.2809, 6.9796]\n",
      "Current loss is:  2.033924291043107\n",
      "Iteration 7:\n",
      "Current angles are:   [2.3072, 1.4925, 1.4899, 1.4909]\n",
      "Current position is:  [-0.4853, -0.4133, 6.9598]\n",
      "Current loss is:  2.2065617970569247\n",
      "Iteration 8:\n",
      "Current angles are:   [2.325, 1.4829, 1.4749, 1.4707]\n",
      "Current position is:  [-0.5843, -0.5297, 6.9371]\n",
      "Current loss is:  2.404094888493619\n",
      "Iteration 9:\n",
      "Current angles are:   [2.3332, 1.4768, 1.4626, 1.4522]\n",
      "Current position is:  [-0.6626, -0.6225, 6.9147]\n",
      "Current loss is:  2.588067052134712\n",
      "Iteration 10:\n",
      "Current angles are:   [2.3348, 1.474, 1.4531, 1.4355]\n",
      "Current position is:  [-0.722, -0.6895, 6.895]\n",
      "Current loss is:  2.7339228023782396\n",
      "Iteration 11:\n",
      "Current angles are:   [2.3323, 1.4739, 1.4458, 1.4203]\n",
      "Current position is:  [-0.7644, -0.7324, 6.8795]\n",
      "Current loss is:  2.831344419226417\n",
      "Iteration 12:\n",
      "Current angles are:   [2.3276, 1.4761, 1.4404, 1.4063]\n",
      "Current position is:  [-0.7919, -0.7549, 6.8684]\n",
      "Current loss is:  2.8814310224936355\n",
      "Iteration 13:\n",
      "Current angles are:   [2.322, 1.48, 1.4363, 1.3929]\n",
      "Current position is:  [-0.8069, -0.762, 6.8612]\n",
      "Current loss is:  2.8925025991796454\n",
      "Iteration 14:\n",
      "Current angles are:   [2.3168, 1.485, 1.4332, 1.3799]\n",
      "Current position is:  [-0.8121, -0.7584, 6.8569]\n",
      "Current loss is:  2.875964069366148\n",
      "Iteration 15:\n",
      "Current angles are:   [2.3124, 1.4906, 1.4304, 1.3667]\n",
      "Current position is:  [-0.8102, -0.7487, 6.8546]\n",
      "Current loss is:  2.843117383308043\n",
      "Iteration 16:\n",
      "Current angles are:   [2.3091, 1.4965, 1.4278, 1.3532]\n",
      "Current position is:  [-0.8038, -0.7362, 6.8531]\n",
      "Current loss is:  2.8032510585126165\n",
      "Iteration 17:\n",
      "Current angles are:   [2.3071, 1.5025, 1.4251, 1.339]\n",
      "Current position is:  [-0.7951, -0.7236, 6.8516]\n",
      "Current loss is:  2.7629041483784103\n",
      "Iteration 18:\n",
      "Current angles are:   [2.3062, 1.5084, 1.4221, 1.3242]\n",
      "Current position is:  [-0.7859, -0.7123, 6.8496]\n",
      "Current loss is:  2.725960090997506\n",
      "Iteration 19:\n",
      "Current angles are:   [2.3063, 1.514, 1.4188, 1.3087]\n",
      "Current position is:  [-0.7773, -0.7032, 6.8468]\n",
      "Current loss is:  2.694175718152037\n",
      "Iteration 20:\n",
      "Current angles are:   [2.307, 1.5196, 1.4152, 1.2925]\n",
      "Current position is:  [-0.7698, -0.6965, 6.843]\n",
      "Current loss is:  2.667832558121454\n",
      "Iteration 21:\n",
      "Current angles are:   [2.3082, 1.5249, 1.4113, 1.2757]\n",
      "Current position is:  [-0.7637, -0.692, 6.8381]\n",
      "Current loss is:  2.6463264256679393\n",
      "Iteration 22:\n",
      "Current angles are:   [2.3097, 1.5301, 1.4072, 1.2583]\n",
      "Current position is:  [-0.7589, -0.6893, 6.8322]\n",
      "Current loss is:  2.6286219396020374\n",
      "Iteration 23:\n",
      "Current angles are:   [2.3113, 1.5353, 1.4028, 1.2405]\n",
      "Current position is:  [-0.7553, -0.6881, 6.8253]\n",
      "Current loss is:  2.6135658165417284\n",
      "Iteration 24:\n",
      "Current angles are:   [2.3129, 1.5404, 1.3982, 1.2224]\n",
      "Current position is:  [-0.7525, -0.6878, 6.8177]\n",
      "Current loss is:  2.600081649861552\n",
      "Iteration 25:\n",
      "Current angles are:   [2.3146, 1.5456, 1.3935, 1.2041]\n",
      "Current position is:  [-0.7503, -0.6881, 6.8094]\n",
      "Current loss is:  2.5872751893788597\n",
      "Iteration 26:\n",
      "Current angles are:   [2.3162, 1.5507, 1.3886, 1.1856]\n",
      "Current position is:  [-0.7484, -0.6886, 6.8005]\n",
      "Current loss is:  2.5744762283955382\n",
      "Iteration 27:\n",
      "Current angles are:   [2.3178, 1.5559, 1.3837, 1.1671]\n",
      "Current position is:  [-0.7467, -0.6892, 6.791]\n",
      "Current loss is:  2.561238237498166\n",
      "Iteration 28:\n",
      "Current angles are:   [2.3193, 1.5611, 1.3787, 1.1485]\n",
      "Current position is:  [-0.7449, -0.6898, 6.7811]\n",
      "Current loss is:  2.5473123292138213\n",
      "Iteration 29:\n",
      "Current angles are:   [2.3208, 1.5664, 1.3736, 1.1301]\n",
      "Current position is:  [-0.7431, -0.6903, 6.7708]\n",
      "Current loss is:  2.5326082805508285\n",
      "Iteration 30:\n",
      "Current angles are:   [2.3223, 1.5716, 1.3684, 1.1117]\n",
      "Current position is:  [-0.7412, -0.6905, 6.7601]\n",
      "Current loss is:  2.5171519404814613\n",
      "Iteration 31:\n",
      "Current angles are:   [2.3237, 1.5769, 1.3631, 1.0936]\n",
      "Current position is:  [-0.7392, -0.6907, 6.7491]\n",
      "Current loss is:  2.501045287474409\n",
      "Iteration 32:\n",
      "Current angles are:   [2.3252, 1.5821, 1.3577, 1.0757]\n",
      "Current position is:  [-0.7371, -0.6908, 6.7377]\n",
      "Current loss is:  2.484432745980513\n",
      "Iteration 33:\n",
      "Current angles are:   [2.3267, 1.5874, 1.3522, 1.058]\n",
      "Current position is:  [-0.735, -0.6908, 6.7261]\n",
      "Current loss is:  2.4674752479796567\n",
      "Iteration 34:\n",
      "Current angles are:   [2.3282, 1.5926, 1.3467, 1.0407]\n",
      "Current position is:  [-0.7328, -0.6907, 6.7142]\n",
      "Current loss is:  2.4503320111961124\n",
      "Iteration 35:\n",
      "Current angles are:   [2.3297, 1.5977, 1.341, 1.0238]\n",
      "Current position is:  [-0.7305, -0.6907, 6.702]\n",
      "Current loss is:  2.433149080398378\n",
      "Iteration 36:\n",
      "Current angles are:   [2.3312, 1.6028, 1.3353, 1.0072]\n",
      "Current position is:  [-0.7283, -0.6907, 6.6897]\n",
      "Current loss is:  2.416053245151514\n",
      "Iteration 37:\n",
      "Current angles are:   [2.3327, 1.6078, 1.3295, 0.9911]\n",
      "Current position is:  [-0.7262, -0.6907, 6.6772]\n",
      "Current loss is:  2.399149870652403\n",
      "Iteration 38:\n",
      "Current angles are:   [2.3342, 1.6128, 1.3236, 0.9754]\n",
      "Current position is:  [-0.724, -0.6907, 6.6645]\n",
      "Current loss is:  2.382523321183345\n",
      "Iteration 39:\n",
      "Current angles are:   [2.3357, 1.6177, 1.3177, 0.9601]\n",
      "Current position is:  [-0.722, -0.6909, 6.6517]\n",
      "Current loss is:  2.366238905058058\n",
      "Iteration 40:\n",
      "Current angles are:   [2.3372, 1.6225, 1.3116, 0.9454]\n",
      "Current position is:  [-0.72, -0.6911, 6.6388]\n",
      "Current loss is:  2.3503455454807165\n",
      "Iteration 41:\n",
      "Current angles are:   [2.3386, 1.6272, 1.3056, 0.9311]\n",
      "Current position is:  [-0.7182, -0.6913, 6.6258]\n",
      "Current loss is:  2.334878635087721\n",
      "Iteration 42:\n",
      "Current angles are:   [2.3401, 1.6319, 1.2994, 0.9173]\n",
      "Current position is:  [-0.7164, -0.6916, 6.6129]\n",
      "Current loss is:  2.3198627398453184\n",
      "Iteration 43:\n",
      "Current angles are:   [2.3415, 1.6364, 1.2933, 0.9039]\n",
      "Current position is:  [-0.7147, -0.692, 6.5999]\n",
      "Current loss is:  2.3053139742592537\n",
      "Iteration 44:\n",
      "Current angles are:   [2.3428, 1.6409, 1.2871, 0.8911]\n",
      "Current position is:  [-0.7131, -0.6923, 6.5869]\n",
      "Current loss is:  2.2912419782596816\n",
      "Iteration 45:\n",
      "Current angles are:   [2.3442, 1.6452, 1.2809, 0.8787]\n",
      "Current position is:  [-0.7115, -0.6928, 6.574]\n",
      "Current loss is:  2.2776514950266917\n",
      "Iteration 46:\n",
      "Current angles are:   [2.3455, 1.6495, 1.2747, 0.8668]\n",
      "Current position is:  [-0.7101, -0.6932, 6.5612]\n",
      "Current loss is:  2.2645435880045497\n",
      "Iteration 47:\n",
      "Current angles are:   [2.3467, 1.6537, 1.2685, 0.8554]\n",
      "Current position is:  [-0.7087, -0.6936, 6.5484]\n",
      "Current loss is:  2.2519165533187158\n",
      "Iteration 48:\n",
      "Current angles are:   [2.3479, 1.6578, 1.2624, 0.8444]\n",
      "Current position is:  [-0.7074, -0.6941, 6.5358]\n",
      "Current loss is:  2.2397665881225404\n",
      "Iteration 49:\n",
      "Current angles are:   [2.3491, 1.6619, 1.2562, 0.8338]\n",
      "Current position is:  [-0.7062, -0.6946, 6.5233]\n",
      "Current loss is:  2.228088271670665\n",
      "Iteration 50:\n",
      "Current angles are:   [2.3502, 1.6658, 1.2501, 0.8237]\n",
      "Current position is:  [-0.705, -0.6951, 6.5109]\n",
      "Current loss is:  2.216874908127889\n",
      "Iteration 51:\n",
      "Current angles are:   [2.3513, 1.6696, 1.2439, 0.814]\n",
      "Current position is:  [-0.7039, -0.6955, 6.4987]\n",
      "Current loss is:  2.206118770909891\n",
      "Iteration 52:\n",
      "Current angles are:   [2.3523, 1.6734, 1.2379, 0.8046]\n",
      "Current position is:  [-0.7029, -0.696, 6.4866]\n",
      "Current loss is:  2.195811279316564\n",
      "Iteration 53:\n",
      "Current angles are:   [2.3533, 1.6771, 1.2319, 0.7957]\n",
      "Current position is:  [-0.702, -0.6965, 6.4747]\n",
      "Current loss is:  2.185943130216262\n",
      "Iteration 54:\n",
      "Current angles are:   [2.3542, 1.6806, 1.2259, 0.7871]\n",
      "Current position is:  [-0.7011, -0.697, 6.4629]\n",
      "Current loss is:  2.1765044009282177\n",
      "Iteration 55:\n",
      "Current angles are:   [2.3551, 1.6841, 1.22, 0.7789]\n",
      "Current position is:  [-0.7002, -0.6974, 6.4514]\n",
      "Current loss is:  2.1674846342764718\n",
      "Iteration 56:\n",
      "Current angles are:   [2.3559, 1.6876, 1.2142, 0.771]\n",
      "Current position is:  [-0.6994, -0.6979, 6.44]\n",
      "Current loss is:  2.158872912925062\n",
      "Iteration 57:\n",
      "Current angles are:   [2.3567, 1.6909, 1.2084, 0.7634]\n",
      "Current position is:  [-0.6987, -0.6983, 6.4288]\n",
      "Current loss is:  2.1506579273422513\n",
      "Iteration 58:\n",
      "Current angles are:   [2.3575, 1.6941, 1.2028, 0.7562]\n",
      "Current position is:  [-0.698, -0.6988, 6.4179]\n",
      "Current loss is:  2.142828039853532\n",
      "Iteration 59:\n",
      "Current angles are:   [2.3582, 1.6973, 1.1971, 0.7492]\n",
      "Current position is:  [-0.6974, -0.6992, 6.4071]\n",
      "Current loss is:  2.1353713460128545\n",
      "Iteration 60:\n",
      "Current angles are:   [2.3589, 1.7004, 1.1916, 0.7426]\n",
      "Current position is:  [-0.6968, -0.6996, 6.3965]\n",
      "Current loss is:  2.128275733765777\n",
      "Iteration 61:\n",
      "Current angles are:   [2.3596, 1.7034, 1.1862, 0.7362]\n",
      "Current position is:  [-0.6962, -0.7, 6.3861]\n",
      "Current loss is:  2.1215289404487128\n",
      "Iteration 62:\n",
      "Current angles are:   [2.3602, 1.7063, 1.1809, 0.7301]\n",
      "Current position is:  [-0.6957, -0.7004, 6.376]\n",
      "Current loss is:  2.115118607452816\n",
      "Iteration 63:\n",
      "Current angles are:   [2.3607, 1.7091, 1.1756, 0.7242]\n",
      "Current position is:  [-0.6953, -0.7008, 6.366]\n",
      "Current loss is:  2.109032332298388\n",
      "Iteration 64:\n",
      "Current angles are:   [2.3613, 1.7119, 1.1705, 0.7186]\n",
      "Current position is:  [-0.6949, -0.7012, 6.3562]\n",
      "Current loss is:  2.1032577178597744\n",
      "Iteration 65:\n",
      "Current angles are:   [2.3618, 1.7146, 1.1654, 0.7132]\n",
      "Current position is:  [-0.6945, -0.7016, 6.3467]\n",
      "Current loss is:  2.0977824185144143\n",
      "Iteration 66:\n",
      "Current angles are:   [2.3622, 1.7172, 1.1604, 0.708]\n",
      "Current position is:  [-0.6942, -0.7019, 6.3373]\n",
      "Current loss is:  2.0925941830406387\n",
      "Iteration 67:\n",
      "Current angles are:   [2.3626, 1.7197, 1.1556, 0.703]\n",
      "Current position is:  [-0.6939, -0.7023, 6.3282]\n",
      "Current loss is:  2.087680894143828\n",
      "Iteration 68:\n",
      "Current angles are:   [2.363, 1.7222, 1.1508, 0.6982]\n",
      "Current position is:  [-0.6936, -0.7026, 6.3193]\n",
      "Current loss is:  2.0830306045423335\n",
      "Iteration 69:\n",
      "Current angles are:   [2.3634, 1.7246, 1.1462, 0.6937]\n",
      "Current position is:  [-0.6934, -0.7029, 6.3105]\n",
      "Current loss is:  2.078631569590871\n",
      "Iteration 70:\n",
      "Current angles are:   [2.3638, 1.7269, 1.1416, 0.6893]\n",
      "Current position is:  [-0.6932, -0.7032, 6.302]\n",
      "Current loss is:  2.0744722764586845\n",
      "Iteration 71:\n",
      "Current angles are:   [2.3641, 1.7292, 1.1371, 0.685]\n",
      "Current position is:  [-0.693, -0.7036, 6.2937]\n",
      "Current loss is:  2.0705414699134885\n",
      "Iteration 72:\n",
      "Current angles are:   [2.3643, 1.7314, 1.1328, 0.681]\n",
      "Current position is:  [-0.6929, -0.7038, 6.2856]\n",
      "Current loss is:  2.0668281747902886\n",
      "Iteration 73:\n",
      "Current angles are:   [2.3646, 1.7335, 1.1285, 0.6771]\n",
      "Current position is:  [-0.6927, -0.7041, 6.2776]\n",
      "Current loss is:  2.063321715248033\n",
      "Iteration 74:\n",
      "Current angles are:   [2.3648, 1.7356, 1.1244, 0.6734]\n",
      "Current position is:  [-0.6927, -0.7044, 6.2699]\n",
      "Current loss is:  2.060011730936989\n",
      "Iteration 75:\n",
      "Current angles are:   [2.365, 1.7376, 1.1203, 0.6698]\n",
      "Current position is:  [-0.6926, -0.7047, 6.2624]\n",
      "Current loss is:  2.0568881902165823\n",
      "Iteration 76:\n",
      "Current angles are:   [2.3652, 1.7395, 1.1164, 0.6663]\n",
      "Current position is:  [-0.6925, -0.7049, 6.255]\n",
      "Current loss is:  2.053941400577227\n",
      "Iteration 77:\n",
      "Current angles are:   [2.3654, 1.7414, 1.1125, 0.663]\n",
      "Current position is:  [-0.6925, -0.7052, 6.2478]\n",
      "Current loss is:  2.0511620164309274\n",
      "Iteration 78:\n",
      "Current angles are:   [2.3655, 1.7432, 1.1088, 0.6598]\n",
      "Current position is:  [-0.6925, -0.7054, 6.2409]\n",
      "Current loss is:  2.0485410444442653\n",
      "Iteration 79:\n",
      "Current angles are:   [2.3657, 1.745, 1.1051, 0.6568]\n",
      "Current position is:  [-0.6926, -0.7056, 6.2341]\n",
      "Current loss is:  2.046069846593413\n",
      "Iteration 80:\n",
      "Current angles are:   [2.3658, 1.7467, 1.1015, 0.6538]\n",
      "Current position is:  [-0.6926, -0.7058, 6.2274]\n",
      "Current loss is:  2.0437401411248928\n",
      "Iteration 81:\n",
      "Current angles are:   [2.3658, 1.7484, 1.0981, 0.651]\n",
      "Current position is:  [-0.6926, -0.706, 6.221]\n",
      "Current loss is:  2.0415440016075\n",
      "Iteration 82:\n",
      "Current angles are:   [2.3659, 1.75, 1.0947, 0.6483]\n",
      "Current position is:  [-0.6927, -0.7062, 6.2147]\n",
      "Current loss is:  2.0394738542600894\n",
      "Iteration 83:\n",
      "Current angles are:   [2.366, 1.7515, 1.0914, 0.6456]\n",
      "Current position is:  [-0.6928, -0.7064, 6.2086]\n",
      "Current loss is:  2.0375224737376962\n",
      "Iteration 84:\n",
      "Current angles are:   [2.366, 1.753, 1.0882, 0.6431]\n",
      "Current position is:  [-0.6929, -0.7066, 6.2027]\n",
      "Current loss is:  2.0356829775540395\n",
      "Iteration 85:\n",
      "Current angles are:   [2.366, 1.7545, 1.0851, 0.6407]\n",
      "Current position is:  [-0.693, -0.7067, 6.1969]\n",
      "Current loss is:  2.0339488193127115\n",
      "Iteration 86:\n",
      "Current angles are:   [2.366, 1.7559, 1.0821, 0.6384]\n",
      "Current position is:  [-0.6931, -0.7069, 6.1913]\n",
      "Current loss is:  2.0323137809120313\n",
      "Iteration 87:\n",
      "Current angles are:   [2.366, 1.7573, 1.0791, 0.6361]\n",
      "Current position is:  [-0.6933, -0.707, 6.1858]\n",
      "Current loss is:  2.030771963880442\n",
      "Iteration 88:\n",
      "Current angles are:   [2.366, 1.7586, 1.0762, 0.634]\n",
      "Current position is:  [-0.6934, -0.7072, 6.1805]\n",
      "Current loss is:  2.0293177799898734\n",
      "Iteration 89:\n",
      "Current angles are:   [2.3659, 1.7599, 1.0735, 0.6319]\n",
      "Current position is:  [-0.6936, -0.7073, 6.1753]\n",
      "Current loss is:  2.0279459412848717\n",
      "Iteration 90:\n",
      "Current angles are:   [2.3659, 1.7612, 1.0708, 0.6299]\n",
      "Current position is:  [-0.6937, -0.7074, 6.1703]\n",
      "Current loss is:  2.026651449655035\n",
      "Iteration 91:\n",
      "Current angles are:   [2.3659, 1.7624, 1.0681, 0.6279]\n",
      "Current position is:  [-0.6939, -0.7075, 6.1654]\n",
      "Current loss is:  2.025429586067659\n",
      "Iteration 92:\n",
      "Current angles are:   [2.3658, 1.7635, 1.0656, 0.6261]\n",
      "Current position is:  [-0.6941, -0.7076, 6.1607]\n",
      "Current loss is:  2.0242758995671517\n",
      "Iteration 93:\n",
      "Current angles are:   [2.3657, 1.7647, 1.0631, 0.6243]\n",
      "Current position is:  [-0.6943, -0.7077, 6.1561]\n",
      "Current loss is:  2.0231861961373587\n",
      "Iteration 94:\n",
      "Current angles are:   [2.3656, 1.7658, 1.0607, 0.6226]\n",
      "Current position is:  [-0.6945, -0.7078, 6.1516]\n",
      "Current loss is:  2.0221565275126205\n",
      "Iteration 95:\n",
      "Current angles are:   [2.3656, 1.7668, 1.0584, 0.6209]\n",
      "Current position is:  [-0.6947, -0.7079, 6.1473]\n",
      "Current loss is:  2.021183180013836\n",
      "Iteration 96:\n",
      "Current angles are:   [2.3655, 1.7678, 1.0561, 0.6193]\n",
      "Current position is:  [-0.6949, -0.708, 6.1431]\n",
      "Current loss is:  2.0202626634762524\n",
      "Iteration 97:\n",
      "Current angles are:   [2.3654, 1.7688, 1.0539, 0.6177]\n",
      "Current position is:  [-0.6951, -0.7081, 6.139]\n",
      "Current loss is:  2.0193917003269015\n",
      "Iteration 98:\n",
      "Current angles are:   [2.3653, 1.7698, 1.0518, 0.6162]\n",
      "Current position is:  [-0.6953, -0.7081, 6.135]\n",
      "Current loss is:  2.0185672148614544\n",
      "Iteration 99:\n",
      "Current angles are:   [2.3651, 1.7707, 1.0497, 0.6148]\n",
      "Current position is:  [-0.6955, -0.7082, 6.1312]\n",
      "Current loss is:  2.017786322762328\n",
      "Iteration 100:\n",
      "Current angles are:   [2.365, 1.7716, 1.0477, 0.6134]\n",
      "Current position is:  [-0.6957, -0.7082, 6.1274]\n",
      "Current loss is:  2.017046320892973\n",
      "Iteration 101:\n",
      "Current angles are:   [2.3649, 1.7725, 1.0458, 0.6121]\n",
      "Current position is:  [-0.6959, -0.7083, 6.1238]\n",
      "Current loss is:  2.0163446773967397\n",
      "Iteration 102:\n",
      "Current angles are:   [2.3648, 1.7733, 1.0439, 0.6108]\n",
      "Current position is:  [-0.6961, -0.7083, 6.1203]\n",
      "Current loss is:  2.0156790221227667\n",
      "Iteration 103:\n",
      "Current angles are:   [2.3646, 1.7741, 1.042, 0.6096]\n",
      "Current position is:  [-0.6963, -0.7084, 6.1169]\n",
      "Current loss is:  2.015047137396139\n",
      "Iteration 104:\n",
      "Current angles are:   [2.3645, 1.7749, 1.0403, 0.6084]\n",
      "Current position is:  [-0.6965, -0.7084, 6.1135]\n",
      "Current loss is:  2.0144469491446633\n",
      "Iteration 105:\n",
      "Current angles are:   [2.3644, 1.7757, 1.0385, 0.6072]\n",
      "Current position is:  [-0.6968, -0.7085, 6.1103]\n",
      "Current loss is:  2.013876518390634\n",
      "Iteration 106:\n",
      "Current angles are:   [2.3643, 1.7764, 1.0369, 0.6061]\n",
      "Current position is:  [-0.697, -0.7085, 6.1072]\n",
      "Current loss is:  2.0133340331120406\n",
      "Iteration 107:\n",
      "Current angles are:   [2.3641, 1.7771, 1.0352, 0.605]\n",
      "Current position is:  [-0.6972, -0.7085, 6.1042]\n",
      "Current loss is:  2.0128178004745685\n",
      "Iteration 108:\n",
      "Current angles are:   [2.364, 1.7778, 1.0337, 0.604]\n",
      "Current position is:  [-0.6974, -0.7085, 6.1013]\n",
      "Current loss is:  2.012326239432896\n",
      "Iteration 109:\n",
      "Current angles are:   [2.3638, 1.7785, 1.0321, 0.603]\n",
      "Current position is:  [-0.6976, -0.7085, 6.0984]\n",
      "Current loss is:  2.0118578736974375\n",
      "Iteration 110:\n",
      "Current angles are:   [2.3637, 1.7791, 1.0307, 0.602]\n",
      "Current position is:  [-0.6978, -0.7086, 6.0957]\n",
      "Current loss is:  2.0114113250606604\n",
      "Iteration 111:\n",
      "Current angles are:   [2.3635, 1.7798, 1.0292, 0.601]\n",
      "Current position is:  [-0.698, -0.7086, 6.093]\n",
      "Current loss is:  2.0109853070753214\n",
      "Iteration 112:\n",
      "Current angles are:   [2.3634, 1.7804, 1.0279, 0.6001]\n",
      "Current position is:  [-0.6982, -0.7086, 6.0904]\n",
      "Current loss is:  2.010578619075796\n",
      "Iteration 113:\n",
      "Current angles are:   [2.3633, 1.781, 1.0265, 0.5993]\n",
      "Current position is:  [-0.6984, -0.7086, 6.0879]\n",
      "Current loss is:  2.0101901405322473\n",
      "Iteration 114:\n",
      "Current angles are:   [2.3631, 1.7815, 1.0252, 0.5984]\n",
      "Current position is:  [-0.6986, -0.7086, 6.0854]\n",
      "Current loss is:  2.0098188257268186\n",
      "Iteration 115:\n",
      "Current angles are:   [2.363, 1.7821, 1.0239, 0.5976]\n",
      "Current position is:  [-0.6988, -0.7086, 6.0831]\n",
      "Current loss is:  2.009463698740119\n",
      "Iteration 116:\n",
      "Current angles are:   [2.3628, 1.7826, 1.0227, 0.5968]\n",
      "Current position is:  [-0.699, -0.7086, 6.0808]\n",
      "Current loss is:  2.0091238487359884\n",
      "Iteration 117:\n",
      "Current angles are:   [2.3627, 1.7831, 1.0215, 0.5961]\n",
      "Current position is:  [-0.6992, -0.7086, 6.0786]\n",
      "Current loss is:  2.008798425531955\n",
      "Iteration 118:\n",
      "Current angles are:   [2.3626, 1.7836, 1.0204, 0.5953]\n",
      "Current position is:  [-0.6994, -0.7086, 6.0764]\n",
      "Current loss is:  2.008486635443017\n",
      "Iteration 119:\n",
      "Current angles are:   [2.3624, 1.7841, 1.0193, 0.5946]\n",
      "Current position is:  [-0.6996, -0.7086, 6.0743]\n",
      "Current loss is:  2.008187737385811\n",
      "Iteration 120:\n",
      "Current angles are:   [2.3623, 1.7846, 1.0182, 0.594]\n",
      "Current position is:  [-0.6998, -0.7085, 6.0723]\n",
      "Current loss is:  2.007901039230836\n",
      "Iteration 121:\n",
      "Current angles are:   [2.3621, 1.785, 1.0171, 0.5933]\n",
      "Current position is:  [-0.7, -0.7085, 6.0704]\n",
      "Current loss is:  2.0076258943900136\n",
      "Iteration 122:\n",
      "Current angles are:   [2.362, 1.7855, 1.0161, 0.5927]\n",
      "Current position is:  [-0.7001, -0.7085, 6.0685]\n",
      "Current loss is:  2.007361698627471\n",
      "Iteration 123:\n",
      "Current angles are:   [2.3619, 1.7859, 1.0152, 0.592]\n",
      "Current position is:  [-0.7003, -0.7085, 6.0666]\n",
      "Current loss is:  2.0071078870815215\n",
      "Iteration 124:\n",
      "Current angles are:   [2.3617, 1.7863, 1.0142, 0.5914]\n",
      "Current position is:  [-0.7005, -0.7085, 6.0648]\n",
      "Current loss is:  2.0068639314860657\n",
      "Iteration 125:\n",
      "Current angles are:   [2.3616, 1.7867, 1.0133, 0.5909]\n",
      "Current position is:  [-0.7007, -0.7085, 6.0631]\n",
      "Current loss is:  2.006629337580255\n",
      "Iteration 126:\n",
      "Current angles are:   [2.3615, 1.7871, 1.0124, 0.5903]\n",
      "Current position is:  [-0.7008, -0.7085, 6.0614]\n",
      "Current loss is:  2.006403642695312\n",
      "Iteration 127:\n",
      "Current angles are:   [2.3613, 1.7874, 1.0115, 0.5898]\n",
      "Current position is:  [-0.701, -0.7084, 6.0598]\n",
      "Current loss is:  2.006186413508057\n",
      "Iteration 128:\n",
      "Current angles are:   [2.3612, 1.7878, 1.0107, 0.5892]\n",
      "Current position is:  [-0.7012, -0.7084, 6.0583]\n",
      "Current loss is:  2.005977243951076\n",
      "Iteration 129:\n",
      "Current angles are:   [2.3611, 1.7881, 1.0099, 0.5887]\n",
      "Current position is:  [-0.7013, -0.7084, 6.0567]\n",
      "Current loss is:  2.0057757532697287\n",
      "Iteration 130:\n",
      "Current angles are:   [2.361, 1.7885, 1.0091, 0.5883]\n",
      "Current position is:  [-0.7015, -0.7084, 6.0553]\n",
      "Current loss is:  2.0055815842168765\n",
      "Iteration 131:\n",
      "Current angles are:   [2.3609, 1.7888, 1.0083, 0.5878]\n",
      "Current position is:  [-0.7016, -0.7084, 6.0538]\n",
      "Current loss is:  2.0053944013764604\n",
      "Iteration 132:\n",
      "Current angles are:   [2.3607, 1.7891, 1.0076, 0.5873]\n",
      "Current position is:  [-0.7018, -0.7083, 6.0524]\n",
      "Current loss is:  2.0052138896076155\n",
      "Iteration 133:\n",
      "Current angles are:   [2.3606, 1.7894, 1.0069, 0.5869]\n",
      "Current position is:  [-0.7019, -0.7083, 6.0511]\n",
      "Current loss is:  2.005039752601343\n",
      "Iteration 134:\n",
      "Current angles are:   [2.3605, 1.7897, 1.0062, 0.5865]\n",
      "Current position is:  [-0.702, -0.7083, 6.0498]\n",
      "Current loss is:  2.0048717115422603\n",
      "Iteration 135:\n",
      "Current angles are:   [2.3604, 1.79, 1.0055, 0.5861]\n",
      "Current position is:  [-0.7022, -0.7083, 6.0486]\n",
      "Current loss is:  2.004709503868312\n",
      "Iteration 136:\n",
      "Current angles are:   [2.3603, 1.7903, 1.0049, 0.5857]\n",
      "Current position is:  [-0.7023, -0.7083, 6.0473]\n",
      "Current loss is:  2.0045528821217657\n",
      "Iteration 137:\n",
      "Current angles are:   [2.3602, 1.7905, 1.0043, 0.5853]\n",
      "Current position is:  [-0.7025, -0.7082, 6.0462]\n",
      "Current loss is:  2.0044016128851556\n",
      "Iteration 138:\n",
      "Current angles are:   [2.3601, 1.7908, 1.0036, 0.5849]\n",
      "Current position is:  [-0.7026, -0.7082, 6.045]\n",
      "Current loss is:  2.0042554757962474\n",
      "Iteration 139:\n",
      "Current angles are:   [2.36, 1.791, 1.0031, 0.5846]\n",
      "Current position is:  [-0.7027, -0.7082, 6.0439]\n",
      "Current loss is:  2.0041142626364272\n",
      "Iteration 140:\n",
      "Current angles are:   [2.3599, 1.7913, 1.0025, 0.5842]\n",
      "Current position is:  [-0.7028, -0.7082, 6.0428]\n",
      "Current loss is:  2.003977776487342\n",
      "Iteration 141:\n",
      "Current angles are:   [2.3598, 1.7915, 1.0019, 0.5839]\n",
      "Current position is:  [-0.703, -0.7081, 6.0418]\n",
      "Current loss is:  2.00384583095079\n",
      "Iteration 142:\n",
      "Current angles are:   [2.3597, 1.7917, 1.0014, 0.5835]\n",
      "Current position is:  [-0.7031, -0.7081, 6.0408]\n",
      "Current loss is:  2.003718249427318\n",
      "Iteration 143:\n",
      "Current angles are:   [2.3596, 1.792, 1.0009, 0.5832]\n",
      "Current position is:  [-0.7032, -0.7081, 6.0398]\n",
      "Current loss is:  2.0035948644492754\n",
      "Iteration 144:\n",
      "Current angles are:   [2.3595, 1.7922, 1.0004, 0.5829]\n",
      "Current position is:  [-0.7033, -0.7081, 6.0389]\n",
      "Current loss is:  2.0034755170641856\n",
      "Iteration 145:\n",
      "Current angles are:   [2.3594, 1.7924, 0.9999, 0.5826]\n",
      "Current position is:  [-0.7034, -0.708, 6.038]\n",
      "Current loss is:  2.003360056264864\n",
      "Iteration 146:\n",
      "Current angles are:   [2.3593, 1.7926, 0.9994, 0.5824]\n",
      "Current position is:  [-0.7035, -0.708, 6.0371]\n",
      "Current loss is:  2.0032483384625737\n",
      "Iteration 147:\n",
      "Current angles are:   [2.3592, 1.7928, 0.999, 0.5821]\n",
      "Current position is:  [-0.7036, -0.708, 6.0362]\n",
      "Current loss is:  2.0031402270002174\n",
      "Iteration 148:\n",
      "Current angles are:   [2.3591, 1.793, 0.9985, 0.5818]\n",
      "Current position is:  [-0.7037, -0.708, 6.0354]\n",
      "Current loss is:  2.003035591702328\n",
      "Iteration 149:\n",
      "Current angles are:   [2.3591, 1.7931, 0.9981, 0.5816]\n",
      "Current position is:  [-0.7038, -0.708, 6.0346]\n",
      "Current loss is:  2.0029343084591615\n",
      "Iteration 150:\n",
      "Current angles are:   [2.359, 1.7933, 0.9977, 0.5813]\n",
      "Current position is:  [-0.7039, -0.7079, 6.0338]\n",
      "Current loss is:  2.002836258842198\n",
      "Iteration 151:\n",
      "Current angles are:   [2.3589, 1.7935, 0.9973, 0.5811]\n",
      "Current position is:  [-0.704, -0.7079, 6.033]\n",
      "Current loss is:  2.002741329748771\n",
      "Iteration 152:\n",
      "Current angles are:   [2.3588, 1.7936, 0.9969, 0.5808]\n",
      "Current position is:  [-0.7041, -0.7079, 6.0323]\n",
      "Current loss is:  2.0026494130733474\n",
      "Iteration 153:\n",
      "Current angles are:   [2.3587, 1.7938, 0.9965, 0.5806]\n",
      "Current position is:  [-0.7042, -0.7079, 6.0316]\n",
      "Current loss is:  2.0025604054036132\n",
      "Iteration 154:\n",
      "Current angles are:   [2.3587, 1.794, 0.9962, 0.5804]\n",
      "Current position is:  [-0.7043, -0.7079, 6.0309]\n",
      "Current loss is:  2.0024742077392372\n",
      "Iteration 155:\n",
      "Current angles are:   [2.3586, 1.7941, 0.9958, 0.5802]\n",
      "Current position is:  [-0.7043, -0.7078, 6.0303]\n",
      "Current loss is:  2.0023907252316553\n",
      "Iteration 156:\n",
      "Current angles are:   [2.3585, 1.7942, 0.9955, 0.58]\n",
      "Current position is:  [-0.7044, -0.7078, 6.0296]\n",
      "Current loss is:  2.0023098669431705\n",
      "Iteration 157:\n",
      "Current angles are:   [2.3585, 1.7944, 0.9951, 0.5798]\n",
      "Current position is:  [-0.7045, -0.7078, 6.029]\n",
      "Current loss is:  2.002231545623784\n",
      "Iteration 158:\n",
      "Current angles are:   [2.3584, 1.7945, 0.9948, 0.5796]\n",
      "Current position is:  [-0.7046, -0.7078, 6.0284]\n",
      "Current loss is:  2.0021556775045135\n",
      "Iteration 159:\n",
      "Current angles are:   [2.3583, 1.7946, 0.9945, 0.5794]\n",
      "Current position is:  [-0.7047, -0.7078, 6.0278]\n",
      "Current loss is:  2.00208218210567\n",
      "Iteration 160:\n",
      "Current angles are:   [2.3583, 1.7948, 0.9942, 0.5792]\n",
      "Current position is:  [-0.7047, -0.7077, 6.0272]\n",
      "Current loss is:  2.002010982059079\n",
      "Iteration 161:\n",
      "Current angles are:   [2.3582, 1.7949, 0.9939, 0.5791]\n",
      "Current position is:  [-0.7048, -0.7077, 6.0267]\n",
      "Current loss is:  2.001942002943066\n",
      "Iteration 162:\n",
      "Current angles are:   [2.3581, 1.795, 0.9936, 0.5789]\n",
      "Current position is:  [-0.7049, -0.7077, 6.0262]\n",
      "Current loss is:  2.0018751731291164\n",
      "Iteration 163:\n",
      "Current angles are:   [2.3581, 1.7951, 0.9934, 0.5787]\n",
      "Current position is:  [-0.7049, -0.7077, 6.0257]\n",
      "Current loss is:  2.0018104236394305\n",
      "Iteration 164:\n",
      "Current angles are:   [2.358, 1.7952, 0.9931, 0.5786]\n",
      "Current position is:  [-0.705, -0.7077, 6.0252]\n",
      "Current loss is:  2.0017476880143357\n",
      "Iteration 165:\n",
      "Current angles are:   [2.358, 1.7953, 0.9928, 0.5784]\n",
      "Current position is:  [-0.7051, -0.7077, 6.0247]\n",
      "Current loss is:  2.001686902188874\n",
      "Iteration 166:\n",
      "Current angles are:   [2.3579, 1.7954, 0.9926, 0.5783]\n",
      "Current position is:  [-0.7051, -0.7076, 6.0242]\n",
      "Current loss is:  2.0016280043777894\n",
      "Iteration 167:\n",
      "Current angles are:   [2.3579, 1.7955, 0.9924, 0.5781]\n",
      "Current position is:  [-0.7052, -0.7076, 6.0238]\n",
      "Current loss is:  2.001570934968252\n",
      "Iteration 168:\n",
      "Current angles are:   [2.3578, 1.7956, 0.9921, 0.578]\n",
      "Current position is:  [-0.7052, -0.7076, 6.0233]\n",
      "Current loss is:  2.0015156364196676\n",
      "Iteration 169:\n",
      "Current angles are:   [2.3578, 1.7957, 0.9919, 0.5779]\n",
      "Current position is:  [-0.7053, -0.7076, 6.0229]\n",
      "Current loss is:  2.0014620531700595\n",
      "Iteration 170:\n",
      "Current angles are:   [2.3577, 1.7958, 0.9917, 0.5777]\n",
      "Current position is:  [-0.7053, -0.7076, 6.0225]\n",
      "Current loss is:  2.001410131548455\n",
      "Iteration 171:\n",
      "Current angles are:   [2.3577, 1.7959, 0.9915, 0.5776]\n",
      "Current position is:  [-0.7054, -0.7076, 6.0221]\n",
      "Current loss is:  2.001359819692857\n",
      "Iteration 172:\n",
      "Current angles are:   [2.3576, 1.796, 0.9913, 0.5775]\n",
      "Current position is:  [-0.7055, -0.7076, 6.0217]\n",
      "Current loss is:  2.0013110674732464\n",
      "Iteration 173:\n",
      "Current angles are:   [2.3576, 1.7961, 0.9911, 0.5774]\n",
      "Current position is:  [-0.7055, -0.7075, 6.0213]\n",
      "Current loss is:  2.0012638264193363\n",
      "Iteration 174:\n",
      "Current angles are:   [2.3576, 1.7962, 0.9909, 0.5773]\n",
      "Current position is:  [-0.7055, -0.7075, 6.021]\n",
      "Current loss is:  2.0012180496526897\n",
      "Iteration 175:\n",
      "Current angles are:   [2.3575, 1.7962, 0.9907, 0.5772]\n",
      "Current position is:  [-0.7056, -0.7075, 6.0206]\n",
      "Current loss is:  2.0011736918227494\n",
      "Iteration 176:\n",
      "Current angles are:   [2.3575, 1.7963, 0.9905, 0.577]\n",
      "Current position is:  [-0.7056, -0.7075, 6.0203]\n",
      "Current loss is:  2.001130709046614\n",
      "Iteration 177:\n",
      "Current angles are:   [2.3574, 1.7964, 0.9903, 0.5769]\n",
      "Current position is:  [-0.7057, -0.7075, 6.02]\n",
      "Current loss is:  2.0010890588522043\n",
      "Iteration 178:\n",
      "Current angles are:   [2.3574, 1.7965, 0.9902, 0.5768]\n",
      "Current position is:  [-0.7057, -0.7075, 6.0196]\n",
      "Current loss is:  2.0010487001245605\n",
      "Iteration 179:\n",
      "Current angles are:   [2.3574, 1.7965, 0.99, 0.5768]\n",
      "Current position is:  [-0.7058, -0.7075, 6.0193]\n",
      "Current loss is:  2.0010095930550755\n",
      "Iteration 180:\n",
      "Current angles are:   [2.3573, 1.7966, 0.9899, 0.5767]\n",
      "Current position is:  [-0.7058, -0.7075, 6.019]\n",
      "Current loss is:  2.000971699093352\n",
      "Iteration 181:\n",
      "Current angles are:   [2.3573, 1.7967, 0.9897, 0.5766]\n",
      "Current position is:  [-0.7058, -0.7074, 6.0188]\n",
      "Current loss is:  2.0009349809016093\n",
      "Iteration 182:\n",
      "Current angles are:   [2.3573, 1.7967, 0.9896, 0.5765]\n",
      "Current position is:  [-0.7059, -0.7074, 6.0185]\n",
      "Current loss is:  2.0008994023113797\n",
      "Iteration 183:\n",
      "Current angles are:   [2.3572, 1.7968, 0.9894, 0.5764]\n",
      "Current position is:  [-0.7059, -0.7074, 6.0182]\n",
      "Current loss is:  2.0008649282823074\n",
      "Iteration 184:\n",
      "Current angles are:   [2.3572, 1.7968, 0.9893, 0.5763]\n",
      "Current position is:  [-0.706, -0.7074, 6.0179]\n",
      "Current loss is:  2.0008315248629933\n",
      "Iteration 185:\n",
      "Current angles are:   [2.3572, 1.7969, 0.9891, 0.5762]\n",
      "Current position is:  [-0.706, -0.7074, 6.0177]\n",
      "Current loss is:  2.00079915915362\n",
      "Iteration 186:\n",
      "Current angles are:   [2.3571, 1.7969, 0.989, 0.5762]\n",
      "Current position is:  [-0.706, -0.7074, 6.0175]\n",
      "Current loss is:  2.0007677992703687\n",
      "Iteration 187:\n",
      "Current angles are:   [2.3571, 1.797, 0.9889, 0.5761]\n",
      "Current position is:  [-0.7061, -0.7074, 6.0172]\n",
      "Current loss is:  2.000737414311359\n",
      "Iteration 188:\n",
      "Current angles are:   [2.3571, 1.7971, 0.9888, 0.576]\n",
      "Current position is:  [-0.7061, -0.7074, 6.017]\n",
      "Current loss is:  2.0007079743241465\n",
      "Iteration 189:\n",
      "Current angles are:   [2.357, 1.7971, 0.9887, 0.5759]\n",
      "Current position is:  [-0.7061, -0.7074, 6.0168]\n",
      "Current loss is:  2.0006794502745717\n",
      "Iteration 190:\n",
      "Current angles are:   [2.357, 1.7971, 0.9885, 0.5759]\n",
      "Current position is:  [-0.7061, -0.7074, 6.0165]\n",
      "Current loss is:  2.000651814016959\n",
      "Iteration 191:\n",
      "Current angles are:   [2.357, 1.7972, 0.9884, 0.5758]\n",
      "Current position is:  [-0.7062, -0.7073, 6.0163]\n",
      "Current loss is:  2.000625038265483\n",
      "Iteration 192:\n",
      "Current angles are:   [2.357, 1.7972, 0.9883, 0.5758]\n",
      "Current position is:  [-0.7062, -0.7073, 6.0161]\n",
      "Current loss is:  2.000599096566724\n",
      "Iteration 193:\n",
      "Current angles are:   [2.3569, 1.7973, 0.9882, 0.5757]\n",
      "Current position is:  [-0.7062, -0.7073, 6.0159]\n",
      "Current loss is:  2.0005739632733035\n",
      "Iteration 194:\n",
      "Current angles are:   [2.3569, 1.7973, 0.9881, 0.5756]\n",
      "Current position is:  [-0.7063, -0.7073, 6.0158]\n",
      "Current loss is:  2.0005496135185132\n",
      "Iteration 195:\n",
      "Current angles are:   [2.3569, 1.7974, 0.988, 0.5756]\n",
      "Current position is:  [-0.7063, -0.7073, 6.0156]\n",
      "Current loss is:  2.0005260231918975\n",
      "Iteration 196:\n",
      "Current angles are:   [2.3569, 1.7974, 0.9879, 0.5755]\n",
      "Current position is:  [-0.7063, -0.7073, 6.0154]\n",
      "Current loss is:  2.0005031689157735\n",
      "Iteration 197:\n",
      "Current angles are:   [2.3569, 1.7974, 0.9878, 0.5755]\n",
      "Current position is:  [-0.7063, -0.7073, 6.0152]\n",
      "Current loss is:  2.0004810280225516\n",
      "Iteration 198:\n",
      "Current angles are:   [2.3568, 1.7975, 0.9877, 0.5754]\n",
      "Current position is:  [-0.7064, -0.7073, 6.0151]\n",
      "Current loss is:  2.000459578532916\n",
      "Iteration 199:\n",
      "Current angles are:   [2.3568, 1.7975, 0.9877, 0.5754]\n",
      "Current position is:  [-0.7064, -0.7073, 6.0149]\n",
      "Current loss is:  2.000438799134745\n"
     ]
    },
    {
     "data": {
      "text/plain": [
       "array([-0.7063997 , -0.70728205,  6.01473967])"
      ]
     },
     "execution_count": 20,
     "metadata": {},
     "output_type": "execute_result"
    }
   ],
   "source": [
    "angles_estimate = arm.get_angles_for_GP_position(desired_position, echo=True)\n",
    "achieved_position = arm.get_GP_position_at_angles(angles_estimate)\n",
    "achieved_position"
   ]
  },
  {
   "cell_type": "markdown",
   "metadata": {},
   "source": [
    "# I think the above is a great example of a local minima. I think it is locally if change the j component without increasing loss.\n",
    "# I will try adding in the tries mechanism to fix this"
   ]
  },
  {
   "cell_type": "code",
   "execution_count": 21,
   "metadata": {},
   "outputs": [
    {
     "data": {
      "text/plain": [
       "array([1.04719755, 2.51327412, 0.44879895, 2.35619449])"
      ]
     },
     "execution_count": 21,
     "metadata": {},
     "output_type": "execute_result"
    }
   ],
   "source": [
    "some_angles = np.array([pi/3, 4*pi/5, pi/7, 3*pi/4])\n",
    "some_angles"
   ]
  },
  {
   "cell_type": "code",
   "execution_count": 22,
   "metadata": {},
   "outputs": [
    {
     "data": {
      "text/plain": [
       "array([ 2.28580623, -1.31971084,  5.55321701])"
      ]
     },
     "execution_count": 22,
     "metadata": {},
     "output_type": "execute_result"
    }
   ],
   "source": [
    "desired_position = arm.get_GP_position_at_angles(some_angles)\n",
    "desired_position"
   ]
  },
  {
   "cell_type": "code",
   "execution_count": 23,
   "metadata": {},
   "outputs": [
    {
     "data": {
      "text/plain": [
       "array([1.04719755, 1.70691054, 2.09856243, 2.47196195])"
      ]
     },
     "execution_count": 23,
     "metadata": {},
     "output_type": "execute_result"
    }
   ],
   "source": [
    "angles_estimated_from_position = arm.get_angles_for_GP_position(desired_position)\n",
    "angles_estimated_from_position"
   ]
  },
  {
   "cell_type": "code",
   "execution_count": 24,
   "metadata": {},
   "outputs": [
    {
     "data": {
      "text/plain": [
       "array([ 2.28580623, -1.31971084,  5.55321701])"
      ]
     },
     "execution_count": 24,
     "metadata": {},
     "output_type": "execute_result"
    }
   ],
   "source": [
    "resulting_position = arm.get_GP_position_at_angles(angles_estimated_from_position)\n",
    "resulting_position"
   ]
  }
 ],
 "metadata": {
  "kernelspec": {
   "display_name": "Python 3",
   "language": "python",
   "name": "python3"
  },
  "language_info": {
   "codemirror_mode": {
    "name": "ipython",
    "version": 3
   },
   "file_extension": ".py",
   "mimetype": "text/x-python",
   "name": "python",
   "nbconvert_exporter": "python",
   "pygments_lexer": "ipython3",
   "version": "3.11.7"
  }
 },
 "nbformat": 4,
 "nbformat_minor": 2
}
