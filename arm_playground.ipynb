{
 "cells": [
  {
   "cell_type": "code",
   "execution_count": 1,
   "metadata": {},
   "outputs": [],
   "source": [
    "from arm import *"
   ]
  },
  {
   "cell_type": "code",
   "execution_count": 2,
   "metadata": {},
   "outputs": [],
   "source": [
    "range_limiter = do.Range_Limiter_Scalar(0, np.pi)"
   ]
  },
  {
   "cell_type": "code",
   "execution_count": 3,
   "metadata": {},
   "outputs": [
    {
     "data": {
      "text/plain": [
       "1.1686963357062937e-43"
      ]
     },
     "execution_count": 3,
     "metadata": {},
     "output_type": "execute_result"
    }
   ],
   "source": [
    "range_limiter.map_scalar_to_target_interval(-100)"
   ]
  },
  {
   "cell_type": "code",
   "execution_count": 4,
   "metadata": {},
   "outputs": [
    {
     "data": {
      "text/plain": [
       "3.141592653589793"
      ]
     },
     "execution_count": 4,
     "metadata": {},
     "output_type": "execute_result"
    }
   ],
   "source": [
    "range_limiter.map_scalar_to_target_interval(100)"
   ]
  },
  {
   "cell_type": "code",
   "execution_count": 5,
   "metadata": {},
   "outputs": [
    {
     "data": {
      "text/plain": [
       "0.00014260866166367913"
      ]
     },
     "execution_count": 5,
     "metadata": {},
     "output_type": "execute_result"
    }
   ],
   "source": [
    "range_limiter.derivative_of_mapping(10)"
   ]
  },
  {
   "cell_type": "code",
   "execution_count": 6,
   "metadata": {},
   "outputs": [
    {
     "data": {
      "text/plain": [
       "0.39269908169872414"
      ]
     },
     "execution_count": 6,
     "metadata": {},
     "output_type": "execute_result"
    }
   ],
   "source": [
    "range_limiter.derivative_of_mapping(0)"
   ]
  },
  {
   "cell_type": "code",
   "execution_count": 7,
   "metadata": {},
   "outputs": [
    {
     "data": {
      "text/plain": [
       "0.00013978344426319542"
      ]
     },
     "execution_count": 7,
     "metadata": {},
     "output_type": "execute_result"
    }
   ],
   "source": [
    "range_limiter.derivative_of_mapping(-5)"
   ]
  },
  {
   "cell_type": "code",
   "execution_count": 8,
   "metadata": {},
   "outputs": [],
   "source": [
    "range_limiter_vector = do.Range_Limit_Vector((\n",
    "    (0, 2*np.pi),\n",
    "    (0, np.pi),\n",
    "    (0, np.pi),\n",
    "    (0, np.pi),\n",
    "))"
   ]
  },
  {
   "cell_type": "code",
   "execution_count": 9,
   "metadata": {},
   "outputs": [
    {
     "data": {
      "text/plain": [
       "array([3.14159265, 1.57079633, 1.57079633, 1.57079633])"
      ]
     },
     "execution_count": 9,
     "metadata": {},
     "output_type": "execute_result"
    }
   ],
   "source": [
    "range_limiter_vector.function(\n",
    "    np.array([0,0,0,0])\n",
    ")"
   ]
  },
  {
   "cell_type": "code",
   "execution_count": 10,
   "metadata": {},
   "outputs": [
    {
     "data": {
      "text/plain": [
       "array([[0.78539816, 0.        , 0.        , 0.        ],\n",
       "       [0.        , 0.39269908, 0.        , 0.        ],\n",
       "       [0.        , 0.        , 0.39269908, 0.        ],\n",
       "       [0.        , 0.        , 0.        , 0.39269908]])"
      ]
     },
     "execution_count": 10,
     "metadata": {},
     "output_type": "execute_result"
    }
   ],
   "source": [
    "range_limiter_vector.derivative_WR_vector(\n",
    "    np.array([0,0,0,0])\n",
    ")"
   ]
  },
  {
   "cell_type": "code",
   "execution_count": 11,
   "metadata": {},
   "outputs": [],
   "source": [
    "arm = Leipzig_Robot_Arm()"
   ]
  },
  {
   "cell_type": "code",
   "execution_count": 12,
   "metadata": {},
   "outputs": [
    {
     "data": {
      "text/plain": [
       "array([0., 0., 7.])"
      ]
     },
     "execution_count": 12,
     "metadata": {},
     "output_type": "execute_result"
    }
   ],
   "source": [
    "arm.get_GP_position_at_angles(\n",
    "    np.array([0, np.pi/2, np.pi/2, np.pi/2])\n",
    ")"
   ]
  },
  {
   "cell_type": "code",
   "execution_count": 13,
   "metadata": {},
   "outputs": [
    {
     "data": {
      "text/plain": [
       "array([0., 0., 7.])"
      ]
     },
     "execution_count": 13,
     "metadata": {},
     "output_type": "execute_result"
    }
   ],
   "source": [
    "arm.get_GP_position_at_angles(\n",
    "    np.array([np.pi, np.pi/2, np.pi/2, np.pi/2])\n",
    ")"
   ]
  },
  {
   "cell_type": "code",
   "execution_count": 14,
   "metadata": {},
   "outputs": [
    {
     "data": {
      "text/plain": [
       "array([-1.0000000e+00,  1.2246468e-16,  6.0000000e+00])"
      ]
     },
     "execution_count": 14,
     "metadata": {},
     "output_type": "execute_result"
    }
   ],
   "source": [
    "arm.get_GP_position_at_angles(\n",
    "    np.array([0, np.pi/2, np.pi/2, np.pi])\n",
    ")"
   ]
  },
  {
   "cell_type": "code",
   "execution_count": 15,
   "metadata": {},
   "outputs": [
    {
     "data": {
      "text/plain": [
       "array([3.14159265, 1.57079633, 1.57079633, 1.57079633])"
      ]
     },
     "execution_count": 15,
     "metadata": {},
     "output_type": "execute_result"
    }
   ],
   "source": [
    "angles = range_limiter_vector.function([0,0,0,0])\n",
    "angles"
   ]
  },
  {
   "cell_type": "code",
   "execution_count": 16,
   "metadata": {},
   "outputs": [
    {
     "data": {
      "text/plain": [
       "array([0.        , 1.57079633, 1.57079633, 1.57079633])"
      ]
     },
     "execution_count": 16,
     "metadata": {},
     "output_type": "execute_result"
    }
   ],
   "source": [
    "np.array([0, np.pi/2, np.pi/2, np.pi/2])"
   ]
  },
  {
   "cell_type": "code",
   "execution_count": 17,
   "metadata": {},
   "outputs": [
    {
     "data": {
      "text/plain": [
       "array([0., 0., 7.])"
      ]
     },
     "execution_count": 17,
     "metadata": {},
     "output_type": "execute_result"
    }
   ],
   "source": [
    "arm.get_GP_position_at_angles(angles)"
   ]
  },
  {
   "cell_type": "code",
   "execution_count": 18,
   "metadata": {},
   "outputs": [
    {
     "name": "stdout",
     "output_type": "stream",
     "text": [
      "Iteration 0: Current loss is:  0.0\n",
      "Iteration 10: Current loss is:  0.0\n",
      "Iteration 20: Current loss is:  0.0\n",
      "Iteration 30: Current loss is:  0.0\n",
      "Iteration 40: Current loss is:  0.0\n",
      "Iteration 50: Current loss is:  0.0\n",
      "Iteration 60: Current loss is:  0.0\n",
      "Iteration 70: Current loss is:  0.0\n",
      "Iteration 80: Current loss is:  0.0\n",
      "Iteration 90: Current loss is:  0.0\n",
      "Iteration 100: Current loss is:  0.0\n",
      "Iteration 110: Current loss is:  0.0\n",
      "Iteration 120: Current loss is:  0.0\n",
      "Iteration 130: Current loss is:  0.0\n",
      "Iteration 140: Current loss is:  0.0\n",
      "Iteration 150: Current loss is:  0.0\n",
      "Iteration 160: Current loss is:  0.0\n",
      "Iteration 170: Current loss is:  0.0\n",
      "Iteration 180: Current loss is:  0.0\n",
      "Iteration 190: Current loss is:  0.0\n",
      "Starting Angles: [3.1416, 1.5708, 1.5708, 1.5708]:\n",
      "Current Angles are:  [3.1416, 1.5708, 1.5708, 1.5708]\n",
      "Desired position is:  [0.0, 0.0, 7.0]\n",
      "Current position is:  [0.0, 0.0, 7.0]\n",
      "Current loss is:  0.0\n"
     ]
    },
    {
     "data": {
      "text/plain": [
       "array([0., 0., 7.])"
      ]
     },
     "execution_count": 18,
     "metadata": {},
     "output_type": "execute_result"
    }
   ],
   "source": [
    "desired_position = np.array([0., 0., 7.])\n",
    "angles_estimate = arm.get_angles_for_GP_position(desired_position, echo_level = 2)\n",
    "achieved_position = arm.get_GP_position_at_angles(angles_estimate)\n",
    "achieved_position"
   ]
  },
  {
   "cell_type": "code",
   "execution_count": 19,
   "metadata": {},
   "outputs": [
    {
     "data": {
      "text/plain": [
       "array([0.70707143, 0.70707143, 6.00999983])"
      ]
     },
     "execution_count": 19,
     "metadata": {},
     "output_type": "execute_result"
    }
   ],
   "source": [
    "some_angles = np.array([np.pi/4, np.pi/2, np.pi/2, 0.01])\n",
    "desired_position = arm.get_GP_position_at_angles(some_angles)\n",
    "desired_position"
   ]
  },
  {
   "cell_type": "code",
   "execution_count": 20,
   "metadata": {},
   "outputs": [
    {
     "name": "stdout",
     "output_type": "stream",
     "text": [
      "Iteration 0: Current loss is:  1.9800003333316667\n",
      "Iteration 10: Current loss is:  0.697219739737224\n",
      "Iteration 20: Current loss is:  0.42240214153820543\n",
      "Iteration 30: Current loss is:  0.18791475172458744\n",
      "Iteration 40: Current loss is:  0.07541043859645866\n",
      "Iteration 50: Current loss is:  0.030794164593699724\n",
      "Iteration 60: Current loss is:  0.012811679337369406\n",
      "Iteration 70: Current loss is:  0.00537345945600134\n",
      "Iteration 80: Current loss is:  0.002259249104720868\n",
      "Iteration 90: Current loss is:  0.0009501948451508292\n",
      "Iteration 100: Current loss is:  0.0003995592291791692\n",
      "Iteration 110: Current loss is:  0.00016801613327731575\n",
      "Iteration 120: Current loss is:  7.06897874851184e-05\n",
      "Iteration 130: Current loss is:  2.9783790241312538e-05\n",
      "Iteration 140: Current loss is:  1.258488544789244e-05\n",
      "Iteration 150: Current loss is:  5.346634399052554e-06\n",
      "Iteration 160: Current loss is:  2.2949669292970263e-06\n",
      "Iteration 170: Current loss is:  1.0046244955921524e-06\n",
      "Iteration 180: Current loss is:  4.5654092142224327e-07\n",
      "Iteration 190: Current loss is:  2.2212580263080318e-07\n",
      "Starting Angles: [3.1416, 1.5708, 1.5708, 1.5708]:\n",
      "Current Angles are:  [3.9272, 1.4116, 1.973, 2.7914]\n",
      "Desired position is:  [0.7071, 0.7071, 6.01]\n",
      "Current position is:  [0.7071, 0.7073, 6.0103]\n",
      "Current loss is:  1.276132908360104e-07\n"
     ]
    },
    {
     "data": {
      "text/plain": [
       "array([0.70706863, 0.70730766, 6.01025483])"
      ]
     },
     "execution_count": 20,
     "metadata": {},
     "output_type": "execute_result"
    }
   ],
   "source": [
    "angles_estimate = arm.get_angles_for_GP_position(desired_position, echo_level = 2)\n",
    "achieved_position = arm.get_GP_position_at_angles(angles_estimate)\n",
    "achieved_position"
   ]
  },
  {
   "cell_type": "markdown",
   "metadata": {},
   "source": [
    "# I think the above is a great example of a local minima. I think it is locally if change the j component without increasing loss.\n",
    "# I will try adding in the tries mechanism to fix this"
   ]
  },
  {
   "cell_type": "code",
   "execution_count": 21,
   "metadata": {},
   "outputs": [
    {
     "data": {
      "text/plain": [
       "array([1.04719755, 2.51327412, 0.44879895, 2.35619449])"
      ]
     },
     "execution_count": 21,
     "metadata": {},
     "output_type": "execute_result"
    }
   ],
   "source": [
    "some_angles = np.array([np.pi/3, 4*np.pi/5, np.pi/7, 3*np.pi/4])\n",
    "some_angles"
   ]
  },
  {
   "cell_type": "code",
   "execution_count": 22,
   "metadata": {},
   "outputs": [
    {
     "data": {
      "text/plain": [
       "array([-1.31971084, -2.28580623,  5.55321701])"
      ]
     },
     "execution_count": 22,
     "metadata": {},
     "output_type": "execute_result"
    }
   ],
   "source": [
    "desired_position = arm.get_GP_position_at_angles(some_angles)\n",
    "desired_position"
   ]
  },
  {
   "cell_type": "code",
   "execution_count": 23,
   "metadata": {},
   "outputs": [
    {
     "name": "stdout",
     "output_type": "stream",
     "text": [
      "Iteration 0: Current loss is:  9.059727861736029\n",
      "Iteration 10: Current loss is:  0.2354662252868815\n",
      "Iteration 20: Current loss is:  0.1646505773162986\n",
      "Iteration 30: Current loss is:  0.07099693919076487\n",
      "Iteration 40: Current loss is:  0.03460556748398521\n",
      "Iteration 50: Current loss is:  0.08021243922940872\n",
      "Iteration 60: Current loss is:  0.08686303616600066\n",
      "Iteration 70: Current loss is:  0.035168088167101125\n",
      "Iteration 80: Current loss is:  0.05423098286518771\n",
      "Iteration 90: Current loss is:  0.0497566759581251\n",
      "Iteration 100: Current loss is:  0.017069148532930976\n",
      "Iteration 110: Current loss is:  0.014943057159971608\n",
      "Iteration 120: Current loss is:  0.026349295267322992\n",
      "Iteration 130: Current loss is:  0.015619929085124927\n",
      "Iteration 140: Current loss is:  0.00845979565720275\n",
      "Iteration 150: Current loss is:  0.014585566900106399\n",
      "Iteration 160: Current loss is:  0.008765917779985907\n",
      "Iteration 170: Current loss is:  0.003184219648856689\n",
      "Iteration 180: Current loss is:  0.005900178835619824\n",
      "Iteration 190: Current loss is:  0.005652023868964031\n",
      "Starting Angles: [3.1416, 1.5708, 1.5708, 1.5708]:\n",
      "Current Angles are:  [1.0328, 1.7063, 2.0986, 2.4975]\n",
      "Desired position is:  [-1.3197, -2.2858, 5.5532]\n",
      "Current position is:  [-1.3499, -2.2572, 5.531]\n",
      "Current loss is:  0.0022261410734825296\n"
     ]
    },
    {
     "data": {
      "text/plain": [
       "array([1.0327706 , 1.70628507, 2.09861234, 2.49749187])"
      ]
     },
     "execution_count": 23,
     "metadata": {},
     "output_type": "execute_result"
    }
   ],
   "source": [
    "angles_estimated_from_position = arm.get_angles_for_GP_position(desired_position, echo_level=2)\n",
    "angles_estimated_from_position"
   ]
  },
  {
   "cell_type": "code",
   "execution_count": 24,
   "metadata": {},
   "outputs": [
    {
     "data": {
      "text/plain": [
       "array([-1.35104615, -2.26401025,  5.52922696])"
      ]
     },
     "execution_count": 24,
     "metadata": {},
     "output_type": "execute_result"
    }
   ],
   "source": [
    "resulting_position = arm.get_GP_position_at_angles(angles_estimated_from_position)\n",
    "resulting_position"
   ]
  },
  {
   "cell_type": "code",
   "execution_count": null,
   "metadata": {},
   "outputs": [],
   "source": []
  }
 ],
 "metadata": {
  "kernelspec": {
   "display_name": "Python 3",
   "language": "python",
   "name": "python3"
  },
  "language_info": {
   "codemirror_mode": {
    "name": "ipython",
    "version": 3
   },
   "file_extension": ".py",
   "mimetype": "text/x-python",
   "name": "python",
   "nbconvert_exporter": "python",
   "pygments_lexer": "ipython3",
   "version": "3.11.7"
  }
 },
 "nbformat": 4,
 "nbformat_minor": 2
}
